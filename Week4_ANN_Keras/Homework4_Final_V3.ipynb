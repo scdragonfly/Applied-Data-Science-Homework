{
 "cells": [
  {
   "cell_type": "markdown",
   "metadata": {},
   "source": [
    "# Homework 4\n",
    "\n",
    "\n",
    "### Silvia Cabellos \n",
    "\n",
    "\n",
    "\n",
    "#### Course: Introduction to applied data science (PHYS247) Spring 2020\n",
    "\n",
    "\n"
   ]
  },
  {
   "cell_type": "markdown",
   "metadata": {},
   "source": [
    "## Problem 1: LendingClub\n",
    "#### Build a model to predict whether or not a borrower will pay back their loan "
   ]
  },
  {
   "cell_type": "code",
   "execution_count": 1,
   "metadata": {},
   "outputs": [
    {
     "name": "stderr",
     "output_type": "stream",
     "text": [
      "Using TensorFlow backend.\n"
     ]
    }
   ],
   "source": [
    "import pandas as pd\n",
    "import matplotlib.pyplot as plt\n",
    "import seaborn as sns\n",
    "from keras.models import Sequential\n",
    "from keras.layers import Dense\n",
    "from keras.wrappers.scikit_learn import KerasClassifier\n",
    "import numpy as np\n",
    "# from sklearn.model_selection import cross_val_score\n",
    "# from sklearn.preprocessing import LabelEncoder\n",
    "# from sklearn.model_selection import StratifiedKFold\n",
    "# from sklearn.preprocessing import StandardScaler\n",
    "# from sklearn.pipeline import Pipeline"
   ]
  },
  {
   "cell_type": "markdown",
   "metadata": {},
   "source": [
    "## a) \n",
    "#### First perform data cleaning. Convert all categorical variables to numeric variables. Extract the zip-code information from the borrowers' address and consider that as one of your features."
   ]
  },
  {
   "cell_type": "code",
   "execution_count": 2,
   "metadata": {},
   "outputs": [],
   "source": [
    "data=pd.read_csv(r'C:\\Users\\scabellos\\OneDrive - Urban Science\\User Documents\\MastersDegree\\AppliedDataScience\\Homework4\\LendingClub.csv')"
   ]
  },
  {
   "cell_type": "code",
   "execution_count": 3,
   "metadata": {},
   "outputs": [
    {
     "name": "stdout",
     "output_type": "stream",
     "text": [
      "<class 'pandas.core.frame.DataFrame'>\n",
      "RangeIndex: 395219 entries, 0 to 395218\n",
      "Data columns (total 23 columns):\n",
      " #   Column                Non-Null Count   Dtype  \n",
      "---  ------                --------------   -----  \n",
      " 0   loan_amnt             395219 non-null  float64\n",
      " 1   term                  395219 non-null  object \n",
      " 2   int_rate              395219 non-null  float64\n",
      " 3   installment           395219 non-null  float64\n",
      " 4   grade                 395219 non-null  object \n",
      " 5   sub_grade             395219 non-null  object \n",
      " 6   home_ownership        395219 non-null  object \n",
      " 7   annual_inc            395219 non-null  float64\n",
      " 8   verification_status   395219 non-null  object \n",
      " 9   loan_status           395219 non-null  object \n",
      " 10  purpose               395219 non-null  object \n",
      " 11  dti                   395219 non-null  float64\n",
      " 12  earliest_cr_line      395219 non-null  object \n",
      " 13  open_acc              395219 non-null  float64\n",
      " 14  pub_rec               395219 non-null  float64\n",
      " 15  revol_bal             395219 non-null  float64\n",
      " 16  revol_util            395219 non-null  float64\n",
      " 17  total_acc             395219 non-null  float64\n",
      " 18  initial_list_status   395219 non-null  object \n",
      " 19  application_type      395219 non-null  object \n",
      " 20  mort_acc              395219 non-null  float64\n",
      " 21  pub_rec_bankruptcies  395219 non-null  float64\n",
      " 22  address               395219 non-null  object \n",
      "dtypes: float64(12), object(11)\n",
      "memory usage: 69.4+ MB\n"
     ]
    }
   ],
   "source": [
    "data.info()"
   ]
  },
  {
   "cell_type": "markdown",
   "metadata": {},
   "source": [
    "#### Let's start with our data exploration - \"loan_status\" is our target feature - Let's see how balanced is the set "
   ]
  },
  {
   "cell_type": "code",
   "execution_count": 4,
   "metadata": {},
   "outputs": [
    {
     "data": {
      "image/png": "[encoded data removed]",
      "text/plain": [
       "<Figure size 288x288 with 1 Axes>"
      ]
     },
     "metadata": {
      "needs_background": "light"
     },
     "output_type": "display_data"
    }
   ],
   "source": [
    "\n",
    "plt.figure(figsize=(4, 4))\n",
    "sns.countplot(data['loan_status'])\n",
    "plt.title('Count by Loan Status')\n",
    "plt.show()"
   ]
  },
  {
   "cell_type": "markdown",
   "metadata": {},
   "source": [
    "####  The Target feature is unbalalanced. We have to take this into account when we split the data set for training and testing. \n",
    "#### Next, we are going to look for duplicates or missing values. There isnt any dup or missing value in this data set "
   ]
  },
  {
   "cell_type": "code",
   "execution_count": 5,
   "metadata": {},
   "outputs": [
    {
     "data": {
      "text/plain": [
       "(395219, 23)"
      ]
     },
     "execution_count": 5,
     "metadata": {},
     "output_type": "execute_result"
    }
   ],
   "source": [
    "# checking for duplicates \n",
    "\n",
    "data=data.drop_duplicates()\n",
    "data.shape"
   ]
  },
  {
   "cell_type": "code",
   "execution_count": 6,
   "metadata": {},
   "outputs": [
    {
     "name": "stdout",
     "output_type": "stream",
     "text": [
      "The number of nulls per feature is \n",
      "\n",
      "loan_amnt               0\n",
      "term                    0\n",
      "int_rate                0\n",
      "installment             0\n",
      "grade                   0\n",
      "sub_grade               0\n",
      "home_ownership          0\n",
      "annual_inc              0\n",
      "verification_status     0\n",
      "loan_status             0\n",
      "purpose                 0\n",
      "dti                     0\n",
      "earliest_cr_line        0\n",
      "open_acc                0\n",
      "pub_rec                 0\n",
      "revol_bal               0\n",
      "revol_util              0\n",
      "total_acc               0\n",
      "initial_list_status     0\n",
      "application_type        0\n",
      "mort_acc                0\n",
      "pub_rec_bankruptcies    0\n",
      "address                 0\n",
      "dtype: int64\n"
     ]
    }
   ],
   "source": [
    "#checking for missing values \n",
    "\n",
    "nulls=data.isnull().sum()\n",
    "print(\"The number of nulls per feature is\", '\\n')\n",
    "print(nulls)"
   ]
  },
  {
   "cell_type": "markdown",
   "metadata": {},
   "source": [
    "#### Let's find how many unique values have the categorical features in the set "
   ]
  },
  {
   "cell_type": "code",
   "execution_count": 7,
   "metadata": {},
   "outputs": [
    {
     "name": "stdout",
     "output_type": "stream",
     "text": [
      "term 2\n",
      "grade 7\n",
      "sub_grade 35\n",
      "home_ownership 6\n",
      "verification_status 3\n",
      "loan_status 2\n",
      "purpose 14\n",
      "earliest_cr_line 684\n",
      "initial_list_status 2\n",
      "application_type 3\n",
      "address 392898\n"
     ]
    }
   ],
   "source": [
    "categorical=['term','grade', 'sub_grade',\n",
    "       'home_ownership','verification_status', 'loan_status',\n",
    "       'purpose', 'earliest_cr_line', 'initial_list_status',\n",
    "       'application_type', 'address']\n",
    "for c in categorical:\n",
    "    print(c,data[c].nunique()) \n"
   ]
  },
  {
   "cell_type": "markdown",
   "metadata": {},
   "source": [
    "#### Start with Address - we are going to extract the zipcode to use it as feature\n",
    "\n",
    "#### Using ZIP instead of address - we have 10 different ZIPs  "
   ]
  },
  {
   "cell_type": "code",
   "execution_count": 8,
   "metadata": {},
   "outputs": [
    {
     "data": {
      "text/plain": [
       "array(['22690', '05113', '00813', '11650', '30723', '70466', '29597',\n",
       "       '48052', '86630', '93700'], dtype=object)"
      ]
     },
     "execution_count": 8,
     "metadata": {},
     "output_type": "execute_result"
    }
   ],
   "source": [
    "data['zip']=data['address'].str.slice(start=-5,)\n",
    "data['zip'].unique()"
   ]
  },
  {
   "cell_type": "code",
   "execution_count": 9,
   "metadata": {},
   "outputs": [
    {
     "data": {
      "image/png": "[encoded data removed]",
      "text/plain": [
       "<Figure size 432x432 with 1 Axes>"
      ]
     },
     "metadata": {
      "needs_background": "light"
     },
     "output_type": "display_data"
    }
   ],
   "source": [
    "plt.figure(figsize=(6, 6))\n",
    "sns.countplot(x=\"zip\", hue=\"loan_status\", data=data)\n",
    "plt.title('Count of Loan Status per ZIP')\n",
    "plt.xticks(rotation=90)\n",
    "plt.show()"
   ]
  },
  {
   "cell_type": "markdown",
   "metadata": {},
   "source": [
    "ZIP is definitely an important feature to understand where are the highest risk of unpaid loans "
   ]
  },
  {
   "cell_type": "markdown",
   "metadata": {},
   "source": [
    "#### Credit Line History  - First I am going to extract the year, then analyze the distribution, After that, I will remove some of the earlier years as they have very few records in the data set and I will bucket the years into decades for easier classification "
   ]
  },
  {
   "cell_type": "code",
   "execution_count": 10,
   "metadata": {},
   "outputs": [
    {
     "data": {
      "text/plain": [
       "array(['1990', '2004', '2007', '2006', '1999', '2005', '1994', '1997',\n",
       "       '1984', '1995', '2001', '1982', '1996', '2000', '2003', '2008',\n",
       "       '1998', '2002', '2009', '1992', '1988', '2010', '1986', '2012',\n",
       "       '1978', '1993', '1983', '1989', '1991', '2011', '1980', '1981',\n",
       "       '1987', '1985', '1967', '1972', '1969', '1979', '1965', '1977',\n",
       "       '1974', '1976', '1975', '1971', '2013', '1964', '1970', '1973',\n",
       "       '1963', '1960', '1966', '1961', '1968', '1958', '1955', '1953',\n",
       "       '1959', '1962', '1944', '1956', '1951', '1957', '1950', '1954',\n",
       "       '1948'], dtype=object)"
      ]
     },
     "execution_count": 10,
     "metadata": {},
     "output_type": "execute_result"
    }
   ],
   "source": [
    "data['earliest_year_line']=data['earliest_cr_line'].str.slice(start=-4,)\n",
    "data['earliest_year_line'].unique()"
   ]
  },
  {
   "cell_type": "code",
   "execution_count": 11,
   "metadata": {},
   "outputs": [
    {
     "data": {
      "image/png": "[encoded data removed]",
      "text/plain": [
       "<Figure size 720x576 with 1 Axes>"
      ]
     },
     "metadata": {
      "needs_background": "light"
     },
     "output_type": "display_data"
    }
   ],
   "source": [
    "plt.figure(figsize=(10, 8))\n",
    "sns.countplot(x=\"earliest_year_line\", hue=\"loan_status\", data=data)\n",
    "plt.title('Count by Loan Status per year')\n",
    "plt.xticks(rotation=90)\n",
    "plt.show()"
   ]
  },
  {
   "cell_type": "code",
   "execution_count": 12,
   "metadata": {},
   "outputs": [
    {
     "name": "stdout",
     "output_type": "stream",
     "text": [
      "1166\n"
     ]
    }
   ],
   "source": [
    "#we are going to remove some records from the sample\n",
    "# remove from 1944 to 1970 \n",
    "print(len(data[data['earliest_year_line']<'1970']))\n",
    "data=data.drop(data[data['earliest_year_line']<'1970'].index,axis=0)"
   ]
  },
  {
   "cell_type": "code",
   "execution_count": 13,
   "metadata": {},
   "outputs": [],
   "source": [
    "#Create buckets of tean years ( decades ) for easy classification Equal-width: equal bucket range ( as partition rule) \n",
    "\n",
    "data['earliest_year_line']= data['earliest_year_line'].astype(int)\n",
    "import numpy as np\n",
    "bins = np.array([1970,1980,1990,2000,2013])\n",
    "data[\"earliest_decade_creditline\"] = pd.cut(data['earliest_year_line'], bins, include_lowest=True)"
   ]
  },
  {
   "cell_type": "code",
   "execution_count": 14,
   "metadata": {},
   "outputs": [
    {
     "data": {
      "image/png": "[encoded data removed]",
      "text/plain": [
       "<Figure size 432x288 with 1 Axes>"
      ]
     },
     "metadata": {
      "needs_background": "light"
     },
     "output_type": "display_data"
    }
   ],
   "source": [
    "sns.countplot(data['earliest_decade_creditline'])\n",
    "plt.title('Counts by earliest_decade_creditline')\n",
    "plt.show()"
   ]
  },
  {
   "cell_type": "markdown",
   "metadata": {},
   "source": [
    "### Purpose "
   ]
  },
  {
   "cell_type": "code",
   "execution_count": 15,
   "metadata": {},
   "outputs": [
    {
     "data": {
      "text/plain": [
       "array(['vacation', 'debt_consolidation', 'credit_card',\n",
       "       'home_improvement', 'small_business', 'major_purchase', 'other',\n",
       "       'medical', 'wedding', 'car', 'moving', 'house', 'educational',\n",
       "       'renewable_energy'], dtype=object)"
      ]
     },
     "execution_count": 15,
     "metadata": {},
     "output_type": "execute_result"
    }
   ],
   "source": [
    "data['purpose'].unique()"
   ]
  },
  {
   "cell_type": "code",
   "execution_count": 16,
   "metadata": {},
   "outputs": [
    {
     "data": {
      "image/png": "[encoded data removed]",
      "text/plain": [
       "<Figure size 432x432 with 1 Axes>"
      ]
     },
     "metadata": {
      "needs_background": "light"
     },
     "output_type": "display_data"
    }
   ],
   "source": [
    "plt.figure(figsize=(6,6))\n",
    "sns.countplot(data['purpose'])\n",
    "plt.title('Count by Purpose')\n",
    "plt.xticks(rotation=90)\n",
    "plt.show()"
   ]
  },
  {
   "cell_type": "markdown",
   "metadata": {},
   "source": [
    "#### We are going to group some of the purposes with fewer volume of loans for easier clasification. And group the PURPOSE into 3 categories"
   ]
  },
  {
   "cell_type": "code",
   "execution_count": 17,
   "metadata": {},
   "outputs": [
    {
     "data": {
      "image/png": "[encoded data removed]",
      "text/plain": [
       "<Figure size 432x432 with 1 Axes>"
      ]
     },
     "metadata": {
      "needs_background": "light"
     },
     "output_type": "display_data"
    }
   ],
   "source": [
    "\n",
    "\n",
    "data[\"purpose_grouped\"]=data[\"purpose\"]\n",
    "\n",
    "other=[\"vacation\",\"home_improvement\",\"small_business\",\"major_purchase\",\n",
    "       'medical', 'wedding', 'car', 'moving', 'house', 'educational',\n",
    "       'renewable_energy']\n",
    "for i in other:\n",
    "    data[\"purpose_grouped\"]=data[\"purpose_grouped\"].replace(i,\"other\")  \n",
    "\n",
    "data[\"purpose_grouped\"].value_counts()\n",
    "\n",
    "plt.figure(figsize=(6,6))\n",
    "sns.countplot(data['purpose_grouped'])\n",
    "plt.title('Count by Purpose_Grouped')\n",
    "#plt.xticks(rotation=90)\n",
    "plt.show()\n"
   ]
  },
  {
   "cell_type": "markdown",
   "metadata": {},
   "source": [
    "### Grade"
   ]
  },
  {
   "cell_type": "code",
   "execution_count": 18,
   "metadata": {},
   "outputs": [
    {
     "data": {
      "text/plain": [
       "array(['B', 'A', 'C', 'E', 'D', 'F', 'G'], dtype=object)"
      ]
     },
     "execution_count": 18,
     "metadata": {},
     "output_type": "execute_result"
    }
   ],
   "source": [
    "data[\"grade\"].unique()"
   ]
  },
  {
   "cell_type": "code",
   "execution_count": 19,
   "metadata": {},
   "outputs": [
    {
     "data": {
      "image/png": "[encoded data removed]",
      "text/plain": [
       "<Figure size 432x432 with 1 Axes>"
      ]
     },
     "metadata": {
      "needs_background": "light"
     },
     "output_type": "display_data"
    },
    {
     "name": "stdout",
     "output_type": "stream",
     "text": [
      "Rate of Paid loans by grade:\n",
      "\n"
     ]
    },
    {
     "data": {
      "text/plain": [
       "A    0.937273\n",
       "B    0.874446\n",
       "C    0.788406\n",
       "D    0.711526\n",
       "E    0.626447\n",
       "F    0.572294\n",
       "G    0.522039\n",
       "Name: grade, dtype: float64"
      ]
     },
     "execution_count": 19,
     "metadata": {},
     "output_type": "execute_result"
    }
   ],
   "source": [
    "\n",
    "plt.figure(figsize=(6, 6))\n",
    "\n",
    "sns.countplot(x=\"grade\", hue=\"loan_status\", data=data, order=['B', 'C', 'A','D','E','F','G'])\n",
    "plt.title('Count by Loan Status by Grade')\n",
    "plt.xticks(rotation=90)\n",
    "\n",
    "plt.show()\n",
    "\n",
    "paidbygrade=data[data[\"loan_status\"].str.contains('Fully Paid')]['grade'].value_counts().sort_index()\n",
    "unpaidbygrade=data[data[\"loan_status\"].str.contains('Charged Off')]['grade'].value_counts().sort_index()\n",
    "\n",
    "print (\"Rate of Paid loans by grade:\\n\")\n",
    "bygrade= pd.concat([paidbygrade, unpaidbygrade], axis=1, sort=False)\n",
    "bygrade.iloc[:,0]/(bygrade.iloc[:,1]+bygrade.iloc[:,0])\n"
   ]
  },
  {
   "cell_type": "code",
   "execution_count": 20,
   "metadata": {},
   "outputs": [
    {
     "data": {
      "image/png": "[encoded data removed]",
      "text/plain": [
       "<Figure size 432x432 with 1 Axes>"
      ]
     },
     "metadata": {
      "needs_background": "light"
     },
     "output_type": "display_data"
    }
   ],
   "source": [
    "plt.figure(figsize=(6, 6))\n",
    "y=bygrade.iloc[:,0]/(bygrade.iloc[:,1]+bygrade.iloc[:,0])\n",
    "x = list(bygrade.index)\n",
    "plt.bar(x,y)\n",
    "plt.xlabel('grade', fontsize=10)\n",
    "plt.ylabel('% of loan paid by grade', fontsize=10)\n",
    "plt.title('Probability to pay loan by grade')\n",
    "plt.show()\n",
    "\n"
   ]
  },
  {
   "cell_type": "markdown",
   "metadata": {},
   "source": [
    "#### Home Ownership  \n",
    "#### We are going to drop the three descriptions with very few rows ( ANY OTHER and NONE ) "
   ]
  },
  {
   "cell_type": "code",
   "execution_count": 21,
   "metadata": {},
   "outputs": [
    {
     "data": {
      "text/plain": [
       "MORTGAGE    197375\n",
       "RENT        159083\n",
       "OWN          37454\n",
       "OTHER          109\n",
       "NONE            29\n",
       "ANY              3\n",
       "Name: home_ownership, dtype: int64"
      ]
     },
     "execution_count": 21,
     "metadata": {},
     "output_type": "execute_result"
    }
   ],
   "source": [
    "data[\"home_ownership\"].value_counts()  "
   ]
  },
  {
   "cell_type": "code",
   "execution_count": 22,
   "metadata": {},
   "outputs": [
    {
     "data": {
      "text/plain": [
       "MORTGAGE    197375\n",
       "RENT        159083\n",
       "OWN          37454\n",
       "Name: home_ownership, dtype: int64"
      ]
     },
     "execution_count": 22,
     "metadata": {},
     "output_type": "execute_result"
    }
   ],
   "source": [
    "# we are going to drop the three descriptions with very few rows \n",
    "\n",
    "data = data.drop(data[(data['home_ownership']=='ANY')].index,axis=0)\n",
    "data = data.drop(data[(data['home_ownership']=='OTHER')].index,axis=0)\n",
    "data = data.drop(data[(data['home_ownership']=='NONE')].index,axis=0)\n",
    "\n",
    "data[\"home_ownership\"].value_counts()\n"
   ]
  },
  {
   "cell_type": "markdown",
   "metadata": {},
   "source": [
    "#### verification_status. Both verified and not verified have a similar rate of payment \n",
    "#### I will remove this feature as is  probably not very important predictor -"
   ]
  },
  {
   "cell_type": "code",
   "execution_count": 23,
   "metadata": {},
   "outputs": [
    {
     "data": {
      "text/plain": [
       "Verified           138781\n",
       "Source Verified    130973\n",
       "Not Verified       124158\n",
       "Name: verification_status, dtype: int64"
      ]
     },
     "execution_count": 23,
     "metadata": {},
     "output_type": "execute_result"
    }
   ],
   "source": [
    "data[\"verification_status\"].value_counts()"
   ]
  },
  {
   "cell_type": "code",
   "execution_count": 24,
   "metadata": {},
   "outputs": [
    {
     "data": {
      "image/png": "[encoded data removed]",
      "text/plain": [
       "<Figure size 432x432 with 1 Axes>"
      ]
     },
     "metadata": {
      "needs_background": "light"
     },
     "output_type": "display_data"
    }
   ],
   "source": [
    "plt.figure(figsize=(6, 6))\n",
    "sns.countplot(x=\"verification_status\", hue=\"loan_status\", data=data)\n",
    "plt.title('Count by Loan Status Verification Status')\n",
    "plt.xticks(rotation=90)\n",
    "plt.show()"
   ]
  },
  {
   "cell_type": "markdown",
   "metadata": {},
   "source": [
    "#### initial_list_status  - Leave feature as is "
   ]
  },
  {
   "cell_type": "code",
   "execution_count": 25,
   "metadata": {},
   "outputs": [
    {
     "data": {
      "text/plain": [
       "f    236533\n",
       "w    157379\n",
       "Name: initial_list_status, dtype: int64"
      ]
     },
     "execution_count": 25,
     "metadata": {},
     "output_type": "execute_result"
    }
   ],
   "source": [
    "data[\"initial_list_status\"].value_counts()"
   ]
  },
  {
   "cell_type": "code",
   "execution_count": 26,
   "metadata": {},
   "outputs": [
    {
     "data": {
      "image/png": "[encoded data removed]",
      "text/plain": [
       "<Figure size 288x288 with 1 Axes>"
      ]
     },
     "metadata": {
      "needs_background": "light"
     },
     "output_type": "display_data"
    }
   ],
   "source": [
    "plt.figure(figsize=(4, 4))\n",
    "sns.countplot(x=\"initial_list_status\", hue=\"loan_status\", data=data)\n",
    "plt.title('Count by Initial List Status')\n",
    "plt.xticks(rotation=90)\n",
    "plt.show()"
   ]
  },
  {
   "cell_type": "markdown",
   "metadata": {},
   "source": [
    "#### Application_type  The number of JOINT and DIRECT PAY is very small. \n",
    "\n",
    "#### I will remove this column from the set "
   ]
  },
  {
   "cell_type": "code",
   "execution_count": 27,
   "metadata": {},
   "outputs": [
    {
     "data": {
      "text/plain": [
       "INDIVIDUAL    393202\n",
       "JOINT            425\n",
       "DIRECT_PAY       285\n",
       "Name: application_type, dtype: int64"
      ]
     },
     "execution_count": 27,
     "metadata": {},
     "output_type": "execute_result"
    }
   ],
   "source": [
    "data[\"application_type\"].value_counts()"
   ]
  },
  {
   "cell_type": "code",
   "execution_count": 28,
   "metadata": {
    "scrolled": true
   },
   "outputs": [
    {
     "data": {
      "image/png": "[encoded data removed]",
      "text/plain": [
       "<Figure size 288x288 with 1 Axes>"
      ]
     },
     "metadata": {
      "needs_background": "light"
     },
     "output_type": "display_data"
    }
   ],
   "source": [
    "plt.figure(figsize=(4, 4))\n",
    "sns.countplot(x=\"application_type\", hue=\"loan_status\", data=data)\n",
    "plt.title('Count by Application Type')\n",
    "plt.show()"
   ]
  },
  {
   "cell_type": "markdown",
   "metadata": {},
   "source": [
    "Now that are are done analyzing the data - we are going to Remove some columns from the set as indicated above and proceed with the encoding \n",
    "\n",
    "The columns I am removing are \n",
    "\n",
    "'sub_grade','application_type','address','purpose','earliest_cr_line','earliest_year_line','verification_status'\n"
   ]
  },
  {
   "cell_type": "code",
   "execution_count": 30,
   "metadata": {},
   "outputs": [
    {
     "data": {
      "text/html": [
       "<div>\n",
       "<style scoped>\n",
       "    .dataframe tbody tr th:only-of-type {\n",
       "        vertical-align: middle;\n",
       "    }\n",
       "\n",
       "    .dataframe tbody tr th {\n",
       "        vertical-align: top;\n",
       "    }\n",
       "\n",
       "    .dataframe thead th {\n",
       "        text-align: right;\n",
       "    }\n",
       "</style>\n",
       "<table border=\"1\" class=\"dataframe\">\n",
       "  <thead>\n",
       "    <tr style=\"text-align: right;\">\n",
       "      <th></th>\n",
       "      <th>loan_amnt</th>\n",
       "      <th>term</th>\n",
       "      <th>int_rate</th>\n",
       "      <th>installment</th>\n",
       "      <th>grade</th>\n",
       "      <th>home_ownership</th>\n",
       "      <th>annual_inc</th>\n",
       "      <th>loan_status</th>\n",
       "      <th>dti</th>\n",
       "      <th>open_acc</th>\n",
       "      <th>pub_rec</th>\n",
       "      <th>revol_bal</th>\n",
       "      <th>revol_util</th>\n",
       "      <th>total_acc</th>\n",
       "      <th>initial_list_status</th>\n",
       "      <th>mort_acc</th>\n",
       "      <th>pub_rec_bankruptcies</th>\n",
       "      <th>zip</th>\n",
       "      <th>earliest_decade_creditline</th>\n",
       "      <th>purpose_grouped</th>\n",
       "    </tr>\n",
       "  </thead>\n",
       "  <tbody>\n",
       "    <tr>\n",
       "      <th>0</th>\n",
       "      <td>10000.0</td>\n",
       "      <td>36 months</td>\n",
       "      <td>11.44</td>\n",
       "      <td>329.48</td>\n",
       "      <td>B</td>\n",
       "      <td>RENT</td>\n",
       "      <td>117000.0</td>\n",
       "      <td>Fully Paid</td>\n",
       "      <td>26.24</td>\n",
       "      <td>16.0</td>\n",
       "      <td>0.0</td>\n",
       "      <td>36369.0</td>\n",
       "      <td>41.8</td>\n",
       "      <td>25.0</td>\n",
       "      <td>w</td>\n",
       "      <td>0.0</td>\n",
       "      <td>0.0</td>\n",
       "      <td>22690</td>\n",
       "      <td>(1980.0, 1990.0]</td>\n",
       "      <td>other</td>\n",
       "    </tr>\n",
       "    <tr>\n",
       "      <th>1</th>\n",
       "      <td>8000.0</td>\n",
       "      <td>36 months</td>\n",
       "      <td>11.99</td>\n",
       "      <td>265.68</td>\n",
       "      <td>B</td>\n",
       "      <td>MORTGAGE</td>\n",
       "      <td>65000.0</td>\n",
       "      <td>Fully Paid</td>\n",
       "      <td>22.05</td>\n",
       "      <td>17.0</td>\n",
       "      <td>0.0</td>\n",
       "      <td>20131.0</td>\n",
       "      <td>53.3</td>\n",
       "      <td>27.0</td>\n",
       "      <td>f</td>\n",
       "      <td>3.0</td>\n",
       "      <td>0.0</td>\n",
       "      <td>05113</td>\n",
       "      <td>(2000.0, 2013.0]</td>\n",
       "      <td>debt_consolidation</td>\n",
       "    </tr>\n",
       "    <tr>\n",
       "      <th>2</th>\n",
       "      <td>15600.0</td>\n",
       "      <td>36 months</td>\n",
       "      <td>10.49</td>\n",
       "      <td>506.97</td>\n",
       "      <td>B</td>\n",
       "      <td>RENT</td>\n",
       "      <td>43057.0</td>\n",
       "      <td>Fully Paid</td>\n",
       "      <td>12.79</td>\n",
       "      <td>13.0</td>\n",
       "      <td>0.0</td>\n",
       "      <td>11987.0</td>\n",
       "      <td>92.2</td>\n",
       "      <td>26.0</td>\n",
       "      <td>f</td>\n",
       "      <td>0.0</td>\n",
       "      <td>0.0</td>\n",
       "      <td>05113</td>\n",
       "      <td>(2000.0, 2013.0]</td>\n",
       "      <td>credit_card</td>\n",
       "    </tr>\n",
       "    <tr>\n",
       "      <th>3</th>\n",
       "      <td>7200.0</td>\n",
       "      <td>36 months</td>\n",
       "      <td>6.49</td>\n",
       "      <td>220.65</td>\n",
       "      <td>A</td>\n",
       "      <td>RENT</td>\n",
       "      <td>54000.0</td>\n",
       "      <td>Fully Paid</td>\n",
       "      <td>2.60</td>\n",
       "      <td>6.0</td>\n",
       "      <td>0.0</td>\n",
       "      <td>5472.0</td>\n",
       "      <td>21.5</td>\n",
       "      <td>13.0</td>\n",
       "      <td>f</td>\n",
       "      <td>0.0</td>\n",
       "      <td>0.0</td>\n",
       "      <td>00813</td>\n",
       "      <td>(2000.0, 2013.0]</td>\n",
       "      <td>credit_card</td>\n",
       "    </tr>\n",
       "    <tr>\n",
       "      <th>4</th>\n",
       "      <td>24375.0</td>\n",
       "      <td>60 months</td>\n",
       "      <td>17.27</td>\n",
       "      <td>609.33</td>\n",
       "      <td>C</td>\n",
       "      <td>MORTGAGE</td>\n",
       "      <td>55000.0</td>\n",
       "      <td>Charged Off</td>\n",
       "      <td>33.95</td>\n",
       "      <td>13.0</td>\n",
       "      <td>0.0</td>\n",
       "      <td>24584.0</td>\n",
       "      <td>69.8</td>\n",
       "      <td>43.0</td>\n",
       "      <td>f</td>\n",
       "      <td>1.0</td>\n",
       "      <td>0.0</td>\n",
       "      <td>11650</td>\n",
       "      <td>(1990.0, 2000.0]</td>\n",
       "      <td>credit_card</td>\n",
       "    </tr>\n",
       "  </tbody>\n",
       "</table>\n",
       "</div>"
      ],
      "text/plain": [
       "   loan_amnt       term  int_rate  installment grade home_ownership  \\\n",
       "0    10000.0  36 months     11.44       329.48     B           RENT   \n",
       "1     8000.0  36 months     11.99       265.68     B       MORTGAGE   \n",
       "2    15600.0  36 months     10.49       506.97     B           RENT   \n",
       "3     7200.0  36 months      6.49       220.65     A           RENT   \n",
       "4    24375.0  60 months     17.27       609.33     C       MORTGAGE   \n",
       "\n",
       "   annual_inc  loan_status    dti  open_acc  pub_rec  revol_bal  revol_util  \\\n",
       "0    117000.0   Fully Paid  26.24      16.0      0.0    36369.0        41.8   \n",
       "1     65000.0   Fully Paid  22.05      17.0      0.0    20131.0        53.3   \n",
       "2     43057.0   Fully Paid  12.79      13.0      0.0    11987.0        92.2   \n",
       "3     54000.0   Fully Paid   2.60       6.0      0.0     5472.0        21.5   \n",
       "4     55000.0  Charged Off  33.95      13.0      0.0    24584.0        69.8   \n",
       "\n",
       "   total_acc initial_list_status  mort_acc  pub_rec_bankruptcies    zip  \\\n",
       "0       25.0                   w       0.0                   0.0  22690   \n",
       "1       27.0                   f       3.0                   0.0  05113   \n",
       "2       26.0                   f       0.0                   0.0  05113   \n",
       "3       13.0                   f       0.0                   0.0  00813   \n",
       "4       43.0                   f       1.0                   0.0  11650   \n",
       "\n",
       "  earliest_decade_creditline     purpose_grouped  \n",
       "0           (1980.0, 1990.0]               other  \n",
       "1           (2000.0, 2013.0]  debt_consolidation  \n",
       "2           (2000.0, 2013.0]         credit_card  \n",
       "3           (2000.0, 2013.0]         credit_card  \n",
       "4           (1990.0, 2000.0]         credit_card  "
      ]
     },
     "execution_count": 30,
     "metadata": {},
     "output_type": "execute_result"
    }
   ],
   "source": [
    "#remove from set \n",
    "\n",
    "data_drop=data.copy()\n",
    "data_drop= data_drop.drop(['sub_grade','application_type','address','purpose','earliest_cr_line','earliest_year_line','verification_status'] ,1)\n",
    "#data= data.drop('earliest_year_line',1)\n",
    "data_drop.head()"
   ]
  },
  {
   "cell_type": "code",
   "execution_count": 31,
   "metadata": {
    "scrolled": true
   },
   "outputs": [
    {
     "data": {
      "text/html": [
       "<div>\n",
       "<style scoped>\n",
       "    .dataframe tbody tr th:only-of-type {\n",
       "        vertical-align: middle;\n",
       "    }\n",
       "\n",
       "    .dataframe tbody tr th {\n",
       "        vertical-align: top;\n",
       "    }\n",
       "\n",
       "    .dataframe thead th {\n",
       "        text-align: right;\n",
       "    }\n",
       "</style>\n",
       "<table border=\"1\" class=\"dataframe\">\n",
       "  <thead>\n",
       "    <tr style=\"text-align: right;\">\n",
       "      <th></th>\n",
       "      <th>loan_amnt</th>\n",
       "      <th>term</th>\n",
       "      <th>int_rate</th>\n",
       "      <th>installment</th>\n",
       "      <th>grade</th>\n",
       "      <th>home_ownership</th>\n",
       "      <th>annual_inc</th>\n",
       "      <th>loan_status</th>\n",
       "      <th>dti</th>\n",
       "      <th>open_acc</th>\n",
       "      <th>pub_rec</th>\n",
       "      <th>revol_bal</th>\n",
       "      <th>revol_util</th>\n",
       "      <th>total_acc</th>\n",
       "      <th>initial_list_status</th>\n",
       "      <th>mort_acc</th>\n",
       "      <th>pub_rec_bankruptcies</th>\n",
       "      <th>zip</th>\n",
       "      <th>earliest_decade_creditline</th>\n",
       "      <th>purpose_grouped</th>\n",
       "    </tr>\n",
       "  </thead>\n",
       "  <tbody>\n",
       "    <tr>\n",
       "      <th>0</th>\n",
       "      <td>10000.0</td>\n",
       "      <td>36 months</td>\n",
       "      <td>11.44</td>\n",
       "      <td>329.48</td>\n",
       "      <td>B</td>\n",
       "      <td>RENT</td>\n",
       "      <td>117000.0</td>\n",
       "      <td>Fully Paid</td>\n",
       "      <td>26.24</td>\n",
       "      <td>16.0</td>\n",
       "      <td>0.0</td>\n",
       "      <td>36369.0</td>\n",
       "      <td>41.8</td>\n",
       "      <td>25.0</td>\n",
       "      <td>w</td>\n",
       "      <td>0.0</td>\n",
       "      <td>0.0</td>\n",
       "      <td>22690</td>\n",
       "      <td>(1980.0, 1990.0]</td>\n",
       "      <td>other</td>\n",
       "    </tr>\n",
       "    <tr>\n",
       "      <th>1</th>\n",
       "      <td>8000.0</td>\n",
       "      <td>36 months</td>\n",
       "      <td>11.99</td>\n",
       "      <td>265.68</td>\n",
       "      <td>B</td>\n",
       "      <td>MORTGAGE</td>\n",
       "      <td>65000.0</td>\n",
       "      <td>Fully Paid</td>\n",
       "      <td>22.05</td>\n",
       "      <td>17.0</td>\n",
       "      <td>0.0</td>\n",
       "      <td>20131.0</td>\n",
       "      <td>53.3</td>\n",
       "      <td>27.0</td>\n",
       "      <td>f</td>\n",
       "      <td>3.0</td>\n",
       "      <td>0.0</td>\n",
       "      <td>05113</td>\n",
       "      <td>(2000.0, 2013.0]</td>\n",
       "      <td>debt_consolidation</td>\n",
       "    </tr>\n",
       "    <tr>\n",
       "      <th>2</th>\n",
       "      <td>15600.0</td>\n",
       "      <td>36 months</td>\n",
       "      <td>10.49</td>\n",
       "      <td>506.97</td>\n",
       "      <td>B</td>\n",
       "      <td>RENT</td>\n",
       "      <td>43057.0</td>\n",
       "      <td>Fully Paid</td>\n",
       "      <td>12.79</td>\n",
       "      <td>13.0</td>\n",
       "      <td>0.0</td>\n",
       "      <td>11987.0</td>\n",
       "      <td>92.2</td>\n",
       "      <td>26.0</td>\n",
       "      <td>f</td>\n",
       "      <td>0.0</td>\n",
       "      <td>0.0</td>\n",
       "      <td>05113</td>\n",
       "      <td>(2000.0, 2013.0]</td>\n",
       "      <td>credit_card</td>\n",
       "    </tr>\n",
       "    <tr>\n",
       "      <th>3</th>\n",
       "      <td>7200.0</td>\n",
       "      <td>36 months</td>\n",
       "      <td>6.49</td>\n",
       "      <td>220.65</td>\n",
       "      <td>A</td>\n",
       "      <td>RENT</td>\n",
       "      <td>54000.0</td>\n",
       "      <td>Fully Paid</td>\n",
       "      <td>2.60</td>\n",
       "      <td>6.0</td>\n",
       "      <td>0.0</td>\n",
       "      <td>5472.0</td>\n",
       "      <td>21.5</td>\n",
       "      <td>13.0</td>\n",
       "      <td>f</td>\n",
       "      <td>0.0</td>\n",
       "      <td>0.0</td>\n",
       "      <td>00813</td>\n",
       "      <td>(2000.0, 2013.0]</td>\n",
       "      <td>credit_card</td>\n",
       "    </tr>\n",
       "    <tr>\n",
       "      <th>4</th>\n",
       "      <td>24375.0</td>\n",
       "      <td>60 months</td>\n",
       "      <td>17.27</td>\n",
       "      <td>609.33</td>\n",
       "      <td>C</td>\n",
       "      <td>MORTGAGE</td>\n",
       "      <td>55000.0</td>\n",
       "      <td>Charged Off</td>\n",
       "      <td>33.95</td>\n",
       "      <td>13.0</td>\n",
       "      <td>0.0</td>\n",
       "      <td>24584.0</td>\n",
       "      <td>69.8</td>\n",
       "      <td>43.0</td>\n",
       "      <td>f</td>\n",
       "      <td>1.0</td>\n",
       "      <td>0.0</td>\n",
       "      <td>11650</td>\n",
       "      <td>(1990.0, 2000.0]</td>\n",
       "      <td>credit_card</td>\n",
       "    </tr>\n",
       "  </tbody>\n",
       "</table>\n",
       "</div>"
      ],
      "text/plain": [
       "   loan_amnt       term  int_rate  installment grade home_ownership  \\\n",
       "0    10000.0  36 months     11.44       329.48     B           RENT   \n",
       "1     8000.0  36 months     11.99       265.68     B       MORTGAGE   \n",
       "2    15600.0  36 months     10.49       506.97     B           RENT   \n",
       "3     7200.0  36 months      6.49       220.65     A           RENT   \n",
       "4    24375.0  60 months     17.27       609.33     C       MORTGAGE   \n",
       "\n",
       "   annual_inc  loan_status    dti  open_acc  pub_rec  revol_bal  revol_util  \\\n",
       "0    117000.0   Fully Paid  26.24      16.0      0.0    36369.0        41.8   \n",
       "1     65000.0   Fully Paid  22.05      17.0      0.0    20131.0        53.3   \n",
       "2     43057.0   Fully Paid  12.79      13.0      0.0    11987.0        92.2   \n",
       "3     54000.0   Fully Paid   2.60       6.0      0.0     5472.0        21.5   \n",
       "4     55000.0  Charged Off  33.95      13.0      0.0    24584.0        69.8   \n",
       "\n",
       "   total_acc initial_list_status  mort_acc  pub_rec_bankruptcies    zip  \\\n",
       "0       25.0                   w       0.0                   0.0  22690   \n",
       "1       27.0                   f       3.0                   0.0  05113   \n",
       "2       26.0                   f       0.0                   0.0  05113   \n",
       "3       13.0                   f       0.0                   0.0  00813   \n",
       "4       43.0                   f       1.0                   0.0  11650   \n",
       "\n",
       "  earliest_decade_creditline     purpose_grouped  \n",
       "0           (1980.0, 1990.0]               other  \n",
       "1           (2000.0, 2013.0]  debt_consolidation  \n",
       "2           (2000.0, 2013.0]         credit_card  \n",
       "3           (2000.0, 2013.0]         credit_card  \n",
       "4           (1990.0, 2000.0]         credit_card  "
      ]
     },
     "execution_count": 31,
     "metadata": {},
     "output_type": "execute_result"
    }
   ],
   "source": [
    "#first we make a copy of the data for a backup  \n",
    "data_clean=data_drop.copy()\n",
    "data_clean.head()"
   ]
  },
  {
   "cell_type": "markdown",
   "metadata": {},
   "source": [
    "### Now we are going to proceed to encode all  the categorical values . \n",
    "\n",
    "#### Using onehotencoding \n",
    "\n",
    "#### The strategy is to convert each category value into a new column and assigns a 1 or 0 (True/False) value to the column. This has the benefit of not weighting a value improperly but does have the downside of adding more columns to the data set.\n",
    "\n",
    "#### We dont have so many features so it is going to work fine in our data set. "
   ]
  },
  {
   "cell_type": "code",
   "execution_count": 32,
   "metadata": {},
   "outputs": [],
   "source": [
    "data_clean[\"loan_status_code\"] = np.where(data_clean[\"loan_status\"]=='Fully Paid', 1, 0)\n",
    "data_clean[\"loan_status_code\"].value_counts()\n",
    "data_clean=data_clean.drop([\"loan_status\"],axis=1)"
   ]
  },
  {
   "cell_type": "code",
   "execution_count": 33,
   "metadata": {},
   "outputs": [
    {
     "name": "stdout",
     "output_type": "stream",
     "text": [
      "<class 'pandas.core.frame.DataFrame'>\n",
      "Int64Index: 393912 entries, 0 to 395218\n",
      "Data columns (total 44 columns):\n",
      " #   Column                              Non-Null Count   Dtype  \n",
      "---  ------                              --------------   -----  \n",
      " 0   loan_amnt                           393912 non-null  float64\n",
      " 1   int_rate                            393912 non-null  float64\n",
      " 2   installment                         393912 non-null  float64\n",
      " 3   annual_inc                          393912 non-null  float64\n",
      " 4   dti                                 393912 non-null  float64\n",
      " 5   open_acc                            393912 non-null  float64\n",
      " 6   pub_rec                             393912 non-null  float64\n",
      " 7   revol_bal                           393912 non-null  float64\n",
      " 8   revol_util                          393912 non-null  float64\n",
      " 9   total_acc                           393912 non-null  float64\n",
      " 10  mort_acc                            393912 non-null  float64\n",
      " 11  pub_rec_bankruptcies                393912 non-null  float64\n",
      " 12  loan_status_code                    393912 non-null  int32  \n",
      " 13  term_36 months                      393912 non-null  uint8  \n",
      " 14  term_60 months                      393912 non-null  uint8  \n",
      " 15  grade_A                             393912 non-null  uint8  \n",
      " 16  grade_B                             393912 non-null  uint8  \n",
      " 17  grade_C                             393912 non-null  uint8  \n",
      " 18  grade_D                             393912 non-null  uint8  \n",
      " 19  grade_E                             393912 non-null  uint8  \n",
      " 20  grade_F                             393912 non-null  uint8  \n",
      " 21  grade_G                             393912 non-null  uint8  \n",
      " 22  home_ownership_MORTGAGE             393912 non-null  uint8  \n",
      " 23  home_ownership_OWN                  393912 non-null  uint8  \n",
      " 24  home_ownership_RENT                 393912 non-null  uint8  \n",
      " 25  purpose_grouped_credit_card         393912 non-null  uint8  \n",
      " 26  purpose_grouped_debt_consolidation  393912 non-null  uint8  \n",
      " 27  purpose_grouped_other               393912 non-null  uint8  \n",
      " 28  creditline_1970_1980                393912 non-null  uint8  \n",
      " 29  creditline_1980_1990                393912 non-null  uint8  \n",
      " 30  creditline_1990_2000                393912 non-null  uint8  \n",
      " 31  creditline_2000_2013                393912 non-null  uint8  \n",
      " 32  initial_list_status_f               393912 non-null  uint8  \n",
      " 33  initial_list_status_w               393912 non-null  uint8  \n",
      " 34  zip_00813                           393912 non-null  uint8  \n",
      " 35  zip_05113                           393912 non-null  uint8  \n",
      " 36  zip_11650                           393912 non-null  uint8  \n",
      " 37  zip_22690                           393912 non-null  uint8  \n",
      " 38  zip_29597                           393912 non-null  uint8  \n",
      " 39  zip_30723                           393912 non-null  uint8  \n",
      " 40  zip_48052                           393912 non-null  uint8  \n",
      " 41  zip_70466                           393912 non-null  uint8  \n",
      " 42  zip_86630                           393912 non-null  uint8  \n",
      " 43  zip_93700                           393912 non-null  uint8  \n",
      "dtypes: float64(12), int32(1), uint8(31)\n",
      "memory usage: 52.2 MB\n"
     ]
    }
   ],
   "source": [
    "\n",
    "data_clean=pd.get_dummies(data_clean, columns=[\"term\"])\n",
    "data_clean=pd.get_dummies(data_clean, columns=[\"grade\"])\n",
    "data_clean=pd.get_dummies(data_clean, columns=[\"home_ownership\"])\n",
    "data_clean=pd.get_dummies(data_clean, columns=[\"purpose_grouped\"])\n",
    "data_clean=pd.get_dummies(data_clean, columns=[\"earliest_decade_creditline\"])\n",
    "data_clean=pd.get_dummies(data_clean, columns=[\"initial_list_status\"])\n",
    "data_clean=pd.get_dummies(data_clean, columns=[\"zip\"])\n",
    "\n",
    "data_clean=data_clean.rename(columns={\"earliest_decade_creditline_(1969.999, 1980.0]\": \"creditline_1970_1980\", \n",
    "                   \"earliest_decade_creditline_(1980.0, 1990.0]\": \"creditline_1980_1990\",\n",
    "                   \"earliest_decade_creditline_(1990.0, 2000.0]\": \"creditline_1990_2000\",\n",
    "                   \"earliest_decade_creditline_(2000.0, 2013.0]\": \"creditline_2000_2013\"})\n",
    "\n",
    "data_clean.info()"
   ]
  },
  {
   "cell_type": "code",
   "execution_count": 38,
   "metadata": {},
   "outputs": [
    {
     "data": {
      "image/png": "[encoded data removed]",
      "text/plain": [
       "<Figure size 864x720 with 2 Axes>"
      ]
     },
     "metadata": {
      "needs_background": "light"
     },
     "output_type": "display_data"
    }
   ],
   "source": [
    "\n",
    "plt.figure(figsize=(12,10))\n",
    "sns.heatmap(data_clean.corr(),annot=False,cmap=\"PiYG\")\n",
    "plt.title('Heat Map - Correlation between all the Variables')\n",
    "plt.show()"
   ]
  },
  {
   "cell_type": "markdown",
   "metadata": {},
   "source": [
    "#### Where we can see areas for pairs of variables that are purple (inversely correlated ) or green ( correlated). Areas that are white show little correlation. \n",
    "#### We can see for example that our target variable \"loan_status_code\" has a relationship with certain zip codes, and loan grade. But it has little to do with the credit history or some other of the numerical variables. "
   ]
  },
  {
   "cell_type": "markdown",
   "metadata": {},
   "source": [
    "# b) \n",
    "### Split the data to training (70%) and test(30%) sample."
   ]
  },
  {
   "cell_type": "code",
   "execution_count": null,
   "metadata": {},
   "outputs": [],
   "source": [
    "print(\"Positive examples =\",len(data_clean[data_clean['loan_status_code']==1]))\n",
    "print(\"Negative examples =\",len(data_clean[data_clean['loan_status_code']==0]))\n",
    "print(f\"Proportion of positive examples = {len(data_clean[data_clean['loan_status_code']==1])/len(data_clean)* 100:.2f}%\")"
   ]
  },
  {
   "cell_type": "markdown",
   "metadata": {},
   "source": [
    "#### We have an imbalanced dataset. This is a classification task where 80% of the data is in one class.  That can lead to problems: an accuracy of 90% can be skewed if you have no predictive power on the other category of data! \n",
    "#### One tactic to get over the hump is to resample the data set and create a balance data set where we have predictive power on the 2 categories this tecnique is called \"Stratified Random Assignment\" -  It is a process of sampling where each class (training or test data) is equally represented in the sample. That allows the model to focus on the difference between the patterns of each class and identifies outliers.\n",
    "\n",
    "#### Following the below steps :\n",
    "\n",
    "1. Get All Negative data \n",
    "2. Shuffle and Reset indexes for all the Negative data \n",
    "3. Do the same for Positive \n",
    "4. Merge 70% of the Positives and 70% of the Negatives from the data sets above  - and build my training set\n",
    "5. Merge the remaining 30% of the Positives and the 30% of the Negatives  - and build my testing test \n",
    "\n"
   ]
  },
  {
   "cell_type": "code",
   "execution_count": 40,
   "metadata": {},
   "outputs": [],
   "source": [
    "# get negative \n",
    "negative=data_clean[data_clean['loan_status_code']==0]\n",
    "# shuffle\n",
    "negative = negative.sample(frac = 1) \n",
    "#reset index \n",
    "negative=negative.reset_index(drop=True)\n",
    "\n",
    "#same for positive \n",
    "positive=data_clean[data_clean['loan_status_code']==1]\n",
    "# shuffle\n",
    "positive = positive.sample(frac = 1) \n",
    "#reset index \n",
    "positive=positive.reset_index(drop=True)\n"
   ]
  },
  {
   "cell_type": "code",
   "execution_count": 41,
   "metadata": {},
   "outputs": [
    {
     "name": "stdout",
     "output_type": "stream",
     "text": [
      "Len Training Positive :  221695\n",
      "Len Testing Positive :  95011\n",
      "Len Training Negative :  54045\n",
      "Len Testing Negative :  23161\n"
     ]
    }
   ],
   "source": [
    "round(len(positive)*0.7)\n",
    "len(positive)-round(len(positive)*0.7)\n",
    "training_positive=positive.loc[0:round(len(positive)*0.7)]\n",
    "print(\"Len Training Positive : \",len(training_positive))\n",
    "testing_positive=positive.loc[round(len(positive)*0.7)+1:len(positive)]\n",
    "print(\"Len Testing Positive : \",len(testing_positive))\n",
    "\n",
    "round(len(negative)*0.7) \n",
    "len(negative)-round(len(negative)*0.7)\n",
    "training_negative=negative.loc[0:round(len(negative)*0.7)]\n",
    "print(\"Len Training Negative : \",len(training_negative))\n",
    "testing_negative=negative.loc[round(len(negative)*0.7)+1:len(negative)]\n",
    "print(\"Len Testing Negative : \",len(testing_negative))\n",
    "\n"
   ]
  },
  {
   "cell_type": "markdown",
   "metadata": {},
   "source": [
    "\n",
    "With this method, I end up with a balanced set that follows the class representation of the model in both training and testing. "
   ]
  },
  {
   "cell_type": "code",
   "execution_count": 42,
   "metadata": {},
   "outputs": [],
   "source": [
    "training=pd.concat([training_positive,training_negative])\n",
    "training=training.reset_index(drop=True)\n",
    "testing=pd.concat([testing_positive,testing_negative])\n",
    "testing=testing.reset_index(drop=True)\n",
    "\n",
    "\n",
    "# shuffle again \n",
    "training = training.sample(frac = 1) \n",
    "testing=testing.sample(frac = 1) "
   ]
  },
  {
   "cell_type": "code",
   "execution_count": 44,
   "metadata": {},
   "outputs": [
    {
     "name": "stdout",
     "output_type": "stream",
     "text": [
      "Original data shapes: ((275740, 43), (118172, 43))\n",
      "Original target value shapes: ((275740,), (118172,))\n"
     ]
    }
   ],
   "source": [
    "X_train=training.loc[:, data_clean.columns !='loan_status_code'].values\n",
    "X_test=testing.loc[:, data_clean.columns !='loan_status_code'].values\n",
    "\n",
    "y_train = training.loc[:, data_clean.columns =='loan_status_code'].values.flatten()\n",
    "y_test = testing.loc[:, data_clean.columns =='loan_status_code'].values.flatten()\n",
    "\n",
    "print(f\"Original data shapes: {X_train.shape, X_test.shape}\")\n",
    "\n",
    "print(f\"Original target value shapes: {y_train.shape, y_test.shape}\")\n"
   ]
  },
  {
   "cell_type": "markdown",
   "metadata": {},
   "source": [
    "## c) \n",
    "### Use sklearn.preprocessing.MinMaxScaler function to normalize all the features for both training and test sample."
   ]
  },
  {
   "cell_type": "code",
   "execution_count": 46,
   "metadata": {},
   "outputs": [],
   "source": [
    "from sklearn.preprocessing import MinMaxScaler\n",
    "scaler = MinMaxScaler()\n",
    "X_train=scaler.fit_transform(X_train)\n",
    "X_test=scaler.transform(X_test)"
   ]
  },
  {
   "cell_type": "markdown",
   "metadata": {},
   "source": [
    "## d)\n",
    "\n",
    "### Build a sequential model using neural-network library Keras. Use four Dense layers (including input and output layers) along with dropout regularization to reduce overfitting.  You need to decide on the number of neurons in each layer."
   ]
  },
  {
   "cell_type": "code",
   "execution_count": 47,
   "metadata": {},
   "outputs": [],
   "source": [
    "from tensorflow.keras.models import Sequential\n",
    "from tensorflow.keras.layers import Dense, Activation,Dropout\n",
    "from tensorflow.keras.optimizers import Adam\n",
    "from tensorflow.keras import layers"
   ]
  },
  {
   "cell_type": "markdown",
   "metadata": {},
   "source": [
    "#### For this model, I applied Dropout of 20% to hidden neurons in the body of the network model."
   ]
  },
  {
   "cell_type": "code",
   "execution_count": 48,
   "metadata": {},
   "outputs": [],
   "source": [
    "neurons=[3,4,5,6,7,8,9,10]\n",
    "acc=[]\n",
    "neu=[]\n",
    "\n",
    "for ne in neurons:\n",
    "      model_n= Sequential([layers.Dense(43,activation='softmax'),\n",
    "                               #To avoid overfitting we want that 20% of the weights do not get updated in each iteration\n",
    "                                layers.Dropout(0.2),\n",
    "                                layers.Dense(ne, activation='softmax'),\n",
    "                                layers.Dropout(0.2),\n",
    "                                layers.Dense(ne, activation='softmax'),\n",
    "                                layers.Dropout(0.2),\n",
    "                                layers.Dense(1, activation='sigmoid'),])\n",
    "      model_n.compile(optimizer='adam',loss='binary_crossentropy',metrics=['accuracy']) \n",
    "      model_n.fit(x=X_train,y=y_train,validation_data=(X_test,y_test),batch_size=32,epochs=5,verbose=0)\n",
    "      acc.append(model_n.history.history['accuracy'][4])\n",
    "      neu.append(ne)"
   ]
  },
  {
   "cell_type": "markdown",
   "metadata": {},
   "source": [
    "### Lets sort the number of neurons that provides highest accuracy. They are al very similar so I'll choose the ANN with 10 neurons. "
   ]
  },
  {
   "cell_type": "code",
   "execution_count": 49,
   "metadata": {},
   "outputs": [
    {
     "data": {
      "text/html": [
       "<div>\n",
       "<style scoped>\n",
       "    .dataframe tbody tr th:only-of-type {\n",
       "        vertical-align: middle;\n",
       "    }\n",
       "\n",
       "    .dataframe tbody tr th {\n",
       "        vertical-align: top;\n",
       "    }\n",
       "\n",
       "    .dataframe thead th {\n",
       "        text-align: right;\n",
       "    }\n",
       "</style>\n",
       "<table border=\"1\" class=\"dataframe\">\n",
       "  <thead>\n",
       "    <tr style=\"text-align: right;\">\n",
       "      <th></th>\n",
       "      <th>Acuracy</th>\n",
       "      <th>Neurons per Layer</th>\n",
       "    </tr>\n",
       "  </thead>\n",
       "  <tbody>\n",
       "    <tr>\n",
       "      <th>7</th>\n",
       "      <td>0.886672</td>\n",
       "      <td>10</td>\n",
       "    </tr>\n",
       "    <tr>\n",
       "      <th>6</th>\n",
       "      <td>0.885849</td>\n",
       "      <td>9</td>\n",
       "    </tr>\n",
       "    <tr>\n",
       "      <th>4</th>\n",
       "      <td>0.885740</td>\n",
       "      <td>7</td>\n",
       "    </tr>\n",
       "    <tr>\n",
       "      <th>5</th>\n",
       "      <td>0.884565</td>\n",
       "      <td>8</td>\n",
       "    </tr>\n",
       "    <tr>\n",
       "      <th>3</th>\n",
       "      <td>0.880561</td>\n",
       "      <td>6</td>\n",
       "    </tr>\n",
       "    <tr>\n",
       "      <th>2</th>\n",
       "      <td>0.867778</td>\n",
       "      <td>5</td>\n",
       "    </tr>\n",
       "    <tr>\n",
       "      <th>1</th>\n",
       "      <td>0.866468</td>\n",
       "      <td>4</td>\n",
       "    </tr>\n",
       "    <tr>\n",
       "      <th>0</th>\n",
       "      <td>0.857311</td>\n",
       "      <td>3</td>\n",
       "    </tr>\n",
       "  </tbody>\n",
       "</table>\n",
       "</div>"
      ],
      "text/plain": [
       "    Acuracy  Neurons per Layer\n",
       "7  0.886672                 10\n",
       "6  0.885849                  9\n",
       "4  0.885740                  7\n",
       "5  0.884565                  8\n",
       "3  0.880561                  6\n",
       "2  0.867778                  5\n",
       "1  0.866468                  4\n",
       "0  0.857311                  3"
      ]
     },
     "execution_count": 49,
     "metadata": {},
     "output_type": "execute_result"
    }
   ],
   "source": [
    "d={'Acuracy':acc,'Neurons per Layer':neu}\n",
    "history=pd.DataFrame(d)\n",
    "history.sort_values('Acuracy',ascending=False)"
   ]
  },
  {
   "cell_type": "markdown",
   "metadata": {},
   "source": [
    "### For that model, I run the charts to visualize metrics ( accuracy and loss)  for training and testing sets "
   ]
  },
  {
   "cell_type": "code",
   "execution_count": 51,
   "metadata": {},
   "outputs": [],
   "source": [
    "model10=Sequential()\n",
    "model10.add(Dense(43,activation='softmax'))  # input \n",
    "model10.add(Dropout(0.2))\n",
    "model10.add(Dense(10,activation='softmax'))\n",
    "model10.add(Dropout(0.2))\n",
    "model10.add(Dense(10,activation='softmax'))\n",
    "model10.add(Dropout(0.2))\n",
    "model10.add(Dense(1,activation='sigmoid')) #output \n",
    "model10.compile(optimizer='adam',loss='binary_crossentropy',metrics=['accuracy']) "
   ]
  },
  {
   "cell_type": "code",
   "execution_count": 52,
   "metadata": {
    "scrolled": true
   },
   "outputs": [
    {
     "data": {
      "text/plain": [
       "<tensorflow.python.keras.callbacks.History at 0x251d8b44988>"
      ]
     },
     "execution_count": 52,
     "metadata": {},
     "output_type": "execute_result"
    }
   ],
   "source": [
    "model10.fit(x=X_train,y=y_train,validation_data=(X_test,y_test),batch_size=32,epochs=30,verbose=0)\n"
   ]
  },
  {
   "cell_type": "code",
   "execution_count": 87,
   "metadata": {},
   "outputs": [
    {
     "name": "stdout",
     "output_type": "stream",
     "text": [
      "Model: \"sequential_8\"\n",
      "_________________________________________________________________\n",
      "Layer (type)                 Output Shape              Param #   \n",
      "=================================================================\n",
      "dense_32 (Dense)             multiple                  1892      \n",
      "_________________________________________________________________\n",
      "dropout_24 (Dropout)         multiple                  0         \n",
      "_________________________________________________________________\n",
      "dense_33 (Dense)             multiple                  440       \n",
      "_________________________________________________________________\n",
      "dropout_25 (Dropout)         multiple                  0         \n",
      "_________________________________________________________________\n",
      "dense_34 (Dense)             multiple                  110       \n",
      "_________________________________________________________________\n",
      "dropout_26 (Dropout)         multiple                  0         \n",
      "_________________________________________________________________\n",
      "dense_35 (Dense)             multiple                  11        \n",
      "=================================================================\n",
      "Total params: 2,453\n",
      "Trainable params: 2,453\n",
      "Non-trainable params: 0\n",
      "_________________________________________________________________\n"
     ]
    }
   ],
   "source": [
    "\n",
    "model10.summary()"
   ]
  },
  {
   "cell_type": "markdown",
   "metadata": {},
   "source": [
    "## d) \n",
    "### Evaluate the performance of your model."
   ]
  },
  {
   "cell_type": "code",
   "execution_count": 54,
   "metadata": {},
   "outputs": [
    {
     "name": "stdout",
     "output_type": "stream",
     "text": [
      "Accuracy of the model with 10 neurons is: 88.72%\n"
     ]
    },
    {
     "data": {
      "image/png": "[encoded data removed]",
      "text/plain": [
       "<Figure size 432x288 with 1 Axes>"
      ]
     },
     "metadata": {
      "needs_background": "light"
     },
     "output_type": "display_data"
    },
    {
     "name": "stdout",
     "output_type": "stream",
     "text": [
      "Loss of the model with 10 neurons is: 26.43%\n"
     ]
    },
    {
     "data": {
      "image/png": "[encoded data removed]",
      "text/plain": [
       "<Figure size 432x288 with 1 Axes>"
      ]
     },
     "metadata": {
      "needs_background": "light"
     },
     "output_type": "display_data"
    }
   ],
   "source": [
    "\n",
    "print('Accuracy of the model with 10 neurons is: 'f\"{(model10.history.history['accuracy'][29])*100:.2f}%\")\n",
    "\n",
    "# summarize history for accuracy\n",
    "plt.plot(model10.history.history['accuracy'])\n",
    "plt.plot(model10.history.history['val_accuracy'])\n",
    "plt.title('model accuracy')\n",
    "plt.ylabel('accuracy')\n",
    "plt.xlabel('epoch')\n",
    "plt.legend(['train', 'test'], loc='upper left')\n",
    "plt.show()\n",
    "# summarize history for loss\n",
    "\n",
    "print('Loss of the model with 10 neurons is: 'f\"{(model10.history.history['loss'][29])*100:.2f}%\")\n",
    "plt.plot(model10.history.history['loss'])\n",
    "plt.plot(model10.history.history['val_loss'])\n",
    "plt.title('model loss')\n",
    "plt.ylabel('loss')\n",
    "plt.xlabel('epoch')\n",
    "plt.legend(['train', 'test'], loc='upper left')\n",
    "plt.show()"
   ]
  },
  {
   "cell_type": "code",
   "execution_count": 64,
   "metadata": {},
   "outputs": [
    {
     "name": "stdout",
     "output_type": "stream",
     "text": [
      "WARNING:tensorflow:From <ipython-input-64-9903c6f307af>:2: Sequential.predict_classes (from tensorflow.python.keras.engine.sequential) is deprecated and will be removed after 2021-01-01.\n",
      "Instructions for updating:\n",
      "Please use instead:* `np.argmax(model.predict(x), axis=-1)`,   if your model does multi-class classification   (e.g. if it uses a `softmax` last-layer activation).* `(model.predict(x) > 0.5).astype(\"int32\")`,   if your model does binary classification   (e.g. if it uses a `sigmoid` last-layer activation).\n"
     ]
    }
   ],
   "source": [
    "# make a prediction\n",
    "predicted = model10.predict_classes(X_test)\n",
    "predicted=predicted.reshape(118172)\n"
   ]
  },
  {
   "cell_type": "code",
   "execution_count": 79,
   "metadata": {},
   "outputs": [],
   "source": [
    "TP,TN,FP,FN=0,0,0,0\n",
    "for i in range(len(y_test)):\n",
    "    if y_test[i]==1:\n",
    "        if predicted[i]==1:\n",
    "            TP+=1\n",
    "        if predicted[i]==0:\n",
    "            FN+=1\n",
    "    if y_test[i]==0:\n",
    "        if predicted[i]==1:\n",
    "            FP+=1\n",
    "        if predicted[i]==0:\n",
    "            TN+=1"
   ]
  },
  {
   "cell_type": "code",
   "execution_count": 83,
   "metadata": {},
   "outputs": [
    {
     "name": "stdout",
     "output_type": "stream",
     "text": [
      "[[94988 13248]\n",
      " [   23  9913]]\n"
     ]
    }
   ],
   "source": [
    "#confusion matrix \n",
    "print(np.array([[TP,FP],[FN,TN]]))"
   ]
  },
  {
   "cell_type": "code",
   "execution_count": 85,
   "metadata": {},
   "outputs": [
    {
     "name": "stdout",
     "output_type": "stream",
     "text": [
      "precision: 87.76%\n",
      "recall: 99.98%\n",
      "F1_score: 93.47%\n",
      "accuracy: 88.77%\n"
     ]
    }
   ],
   "source": [
    "precision=TP/(TP+FP)\n",
    "print('precision: 'f\"{precision*100:.2f}%\")\n",
    "\n",
    "recall=TP/(TP+FN)\n",
    "print('recall: 'f\"{recall*100:.2f}%\")\n",
    "\n",
    "F1_score=2*precision*recall/(precision+recall)\n",
    "print('F1_score: 'f\"{F1_score*100:.2f}%\")\n",
    "\n",
    "accuracy=(TP+TN)/(TP+FP+FN+TN)\n",
    "print('accuracy: 'f\"{accuracy*100:.2f}%\")"
   ]
  },
  {
   "cell_type": "markdown",
   "metadata": {},
   "source": [
    "For this analysis, Precision is more important than Recall and should be improved. These metrics are showing a precision of 87% abd shows  13248  False Positives, meaning that our model is classifying them is good candidates for a loan, even though y_test shows they will not.  "
   ]
  },
  {
   "cell_type": "code",
   "execution_count": null,
   "metadata": {},
   "outputs": [],
   "source": []
  },
  {
   "cell_type": "code",
   "execution_count": null,
   "metadata": {},
   "outputs": [],
   "source": []
  },
  {
   "cell_type": "code",
   "execution_count": null,
   "metadata": {},
   "outputs": [],
   "source": []
  },
  {
   "cell_type": "code",
   "execution_count": null,
   "metadata": {},
   "outputs": [],
   "source": []
  }
 ],
 "metadata": {
  "kernelspec": {
   "display_name": "Python 3",
   "language": "python",
   "name": "python3"
  },
  "language_info": {
   "codemirror_mode": {
    "name": "ipython",
    "version": 3
   },
   "file_extension": ".py",
   "mimetype": "text/x-python",
   "name": "python",
   "nbconvert_exporter": "python",
   "pygments_lexer": "ipython3",
   "version": "3.7.6"
  }
 },
 "nbformat": 4,
 "nbformat_minor": 4
}
