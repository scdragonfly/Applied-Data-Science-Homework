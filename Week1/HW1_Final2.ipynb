{
 "cells": [
  {
   "cell_type": "markdown",
   "metadata": {},
   "source": [
    "\n",
    "\n",
    "##  Homework 1  PHYS 247                                                                                                                                  \n",
    "#### Submitted by Silvia Cabellos \n",
    "#### Date 4/14/2020 \n",
    "\n",
    "#### 1. Sections a) and b) from Problem 1 submitted separately in files \n",
    "\n",
    "\n",
    "#### 2. The notebook below contains :\n",
    "\n",
    "#####       -    Problem 1 - Sections c) until k)  \n",
    "#####       -    Problem 2. \n",
    "\n",
    "\n"
   ]
  },
  {
   "cell_type": "markdown",
   "metadata": {},
   "source": [
    "### c) Create a 10x10 NumPy matrix which contains all the elements we have found for A. Find the transpose of the matrix using numpy.transpose. Are the matrix and its transpose equal? Did you expect this result?"
   ]
  },
  {
   "cell_type": "code",
   "execution_count": 158,
   "metadata": {},
   "outputs": [],
   "source": [
    "import numpy as np "
   ]
  },
  {
   "cell_type": "code",
   "execution_count": 159,
   "metadata": {},
   "outputs": [],
   "source": [
    "AM=np.array([[0, 0, 0, 0, 0, 0, 0, 0, 1, 0],[0, 0, 1, 0, 1, 0, 0, 0, 0, 0],[0, 1, 0, 1, 0, 1, 0, 0, 0, 0],\n",
    "            [0, 0, 1, 0, 0, 0, 1, 0, 0, 0],[0, 1, 0, 0, 0, 1, 0, 1, 0, 0],[0, 0, 1, 0, 1, 0, 1, 0, 1, 0],\n",
    "            [0, 0, 0, 1, 0, 1, 0, 0, 0, 1],[0, 0, 0, 0, 1, 0, 0, 0, 1, 0],[1, 0, 0, 0, 0, 1, 0, 1, 0, 1],\n",
    "            [0, 0, 0, 0, 0, 0, 1, 0, 1, 0]],dtype=np.int64)"
   ]
  },
  {
   "cell_type": "code",
   "execution_count": 160,
   "metadata": {},
   "outputs": [
    {
     "data": {
      "text/plain": [
       "(10, 10)"
      ]
     },
     "execution_count": 160,
     "metadata": {},
     "output_type": "execute_result"
    }
   ],
   "source": [
    "AM.shape"
   ]
  },
  {
   "cell_type": "code",
   "execution_count": 161,
   "metadata": {},
   "outputs": [
    {
     "data": {
      "text/plain": [
       "array([[0, 0, 0, 0, 0, 0, 0, 0, 1, 0],\n",
       "       [0, 0, 1, 0, 1, 0, 0, 0, 0, 0],\n",
       "       [0, 1, 0, 1, 0, 1, 0, 0, 0, 0],\n",
       "       [0, 0, 1, 0, 0, 0, 1, 0, 0, 0],\n",
       "       [0, 1, 0, 0, 0, 1, 0, 1, 0, 0],\n",
       "       [0, 0, 1, 0, 1, 0, 1, 0, 1, 0],\n",
       "       [0, 0, 0, 1, 0, 1, 0, 0, 0, 1],\n",
       "       [0, 0, 0, 0, 1, 0, 0, 0, 1, 0],\n",
       "       [1, 0, 0, 0, 0, 1, 0, 1, 0, 1],\n",
       "       [0, 0, 0, 0, 0, 0, 1, 0, 1, 0]], dtype=int64)"
      ]
     },
     "execution_count": 161,
     "metadata": {},
     "output_type": "execute_result"
    }
   ],
   "source": [
    "AM"
   ]
  },
  {
   "cell_type": "code",
   "execution_count": 162,
   "metadata": {},
   "outputs": [],
   "source": [
    "AMt=np.transpose(AM)"
   ]
  },
  {
   "cell_type": "code",
   "execution_count": 163,
   "metadata": {},
   "outputs": [
    {
     "data": {
      "text/plain": [
       "array([[0, 0, 0, 0, 0, 0, 0, 0, 1, 0],\n",
       "       [0, 0, 1, 0, 1, 0, 0, 0, 0, 0],\n",
       "       [0, 1, 0, 1, 0, 1, 0, 0, 0, 0],\n",
       "       [0, 0, 1, 0, 0, 0, 1, 0, 0, 0],\n",
       "       [0, 1, 0, 0, 0, 1, 0, 1, 0, 0],\n",
       "       [0, 0, 1, 0, 1, 0, 1, 0, 1, 0],\n",
       "       [0, 0, 0, 1, 0, 1, 0, 0, 0, 1],\n",
       "       [0, 0, 0, 0, 1, 0, 0, 0, 1, 0],\n",
       "       [1, 0, 0, 0, 0, 1, 0, 1, 0, 1],\n",
       "       [0, 0, 0, 0, 0, 0, 1, 0, 1, 0]], dtype=int64)"
      ]
     },
     "execution_count": 163,
     "metadata": {},
     "output_type": "execute_result"
    }
   ],
   "source": [
    "AMt"
   ]
  },
  {
   "cell_type": "markdown",
   "metadata": {},
   "source": [
    "#### Are the matrix and its transpose equal? Did you expect this result? \n",
    "\n",
    "Yes, this is a symmetric matrix. "
   ]
  },
  {
   "cell_type": "code",
   "execution_count": 164,
   "metadata": {},
   "outputs": [
    {
     "name": "stdout",
     "output_type": "stream",
     "text": [
      "True\n"
     ]
    }
   ],
   "source": [
    "comparison = AM == AMt\n",
    "equal_arrays = comparison.all()\n",
    "print(equal_arrays)"
   ]
  },
  {
   "cell_type": "code",
   "execution_count": 165,
   "metadata": {},
   "outputs": [],
   "source": [
    "o=np.array([1,1,1,1,1,1,1,1,1,1])"
   ]
  },
  {
   "cell_type": "markdown",
   "metadata": {},
   "source": [
    "### d) Define a function with the name of \"Dialer Problem\" which takes two parameters, S and N and returns (S;N). Within the function, use a \"for loop\" to multiply $\\Omega$(1) to A and then A and so on. Test your function for a few examples. For instance, running Dialer Problem(5,10) should return 18713."
   ]
  },
  {
   "cell_type": "code",
   "execution_count": 166,
   "metadata": {},
   "outputs": [],
   "source": [
    "from numpy.linalg import matrix_power\n",
    "def DialerProblem(position,number):\n",
    "    \"\"\"\n",
    "        :type Number:Starting point  \n",
    "        :type Position:Number of digits \n",
    "        \n",
    "        Funtion will return the number of distinct combinations can be dialed \n",
    "    \"\"\"\n",
    "    if number<0:\n",
    "        omega=\"doesnt exist\"\n",
    "    elif number==0:\n",
    "        omega=1\n",
    "    else:\n",
    "        omega=1\n",
    "        for n in range(1,number+1):\n",
    "            omega=np.dot(matrix_power(AM, n-1),o)\n",
    "        return(omega[position])   "
   ]
  },
  {
   "cell_type": "markdown",
   "metadata": {},
   "source": [
    "Run a few examples to make sure results are accurate \n",
    "\n",
    "\n",
    "1.$\\Omega$(0,2)=1\n",
    "\n",
    "\n",
    "2.Running Dialer Problem(5,10) should return 18713. Let's run some validations to make sure results are consistent with expected "
   ]
  },
  {
   "cell_type": "code",
   "execution_count": 167,
   "metadata": {},
   "outputs": [
    {
     "data": {
      "text/plain": [
       "1"
      ]
     },
     "execution_count": 167,
     "metadata": {},
     "output_type": "execute_result"
    }
   ],
   "source": [
    "DialerProblem(0,2)"
   ]
  },
  {
   "cell_type": "code",
   "execution_count": 168,
   "metadata": {},
   "outputs": [
    {
     "data": {
      "text/plain": [
       "18713"
      ]
     },
     "execution_count": 168,
     "metadata": {},
     "output_type": "execute_result"
    }
   ],
   "source": [
    "DialerProblem(5,10)"
   ]
  },
  {
   "cell_type": "markdown",
   "metadata": {},
   "source": [
    "### e) Rewrite the same code without using NumPy package. You will need to create a nested list which includes all the elements in A and also define a function which performs matrix multiplication.\n",
    "\n"
   ]
  },
  {
   "cell_type": "markdown",
   "metadata": {},
   "source": [
    "1) First we create a nested list with all the possible moves from the AM=(A matrix)"
   ]
  },
  {
   "cell_type": "code",
   "execution_count": 169,
   "metadata": {},
   "outputs": [],
   "source": [
    "Alist=[[0, 0, 0, 0, 0, 0, 0, 0, 1, 0],[0, 0, 1, 0, 1, 0, 0, 0, 0, 0],[0, 1, 0, 1, 0, 1, 0, 0, 0, 0],\n",
    "            [0, 0, 1, 0, 0, 0, 1, 0, 0, 0],[0, 1, 0, 0, 0, 1, 0, 1, 0, 0],[0, 0, 1, 0, 1, 0, 1, 0, 1, 0],\n",
    "            [0, 0, 0, 1, 0, 1, 0, 0, 0, 1],[0, 0, 0, 0, 1, 0, 0, 0, 1, 0],[1, 0, 0, 0, 0, 1, 0, 1, 0, 1],\n",
    "            [0, 0, 0, 0, 0, 0, 1, 0, 1, 0]]"
   ]
  },
  {
   "cell_type": "code",
   "execution_count": 170,
   "metadata": {},
   "outputs": [
    {
     "data": {
      "text/plain": [
       "[[0, 0, 0, 0, 0, 0, 0, 0, 1, 0],\n",
       " [0, 0, 1, 0, 1, 0, 0, 0, 0, 0],\n",
       " [0, 1, 0, 1, 0, 1, 0, 0, 0, 0],\n",
       " [0, 0, 1, 0, 0, 0, 1, 0, 0, 0],\n",
       " [0, 1, 0, 0, 0, 1, 0, 1, 0, 0],\n",
       " [0, 0, 1, 0, 1, 0, 1, 0, 1, 0],\n",
       " [0, 0, 0, 1, 0, 1, 0, 0, 0, 1],\n",
       " [0, 0, 0, 0, 1, 0, 0, 0, 1, 0],\n",
       " [1, 0, 0, 0, 0, 1, 0, 1, 0, 1],\n",
       " [0, 0, 0, 0, 0, 0, 1, 0, 1, 0]]"
      ]
     },
     "execution_count": 170,
     "metadata": {},
     "output_type": "execute_result"
    }
   ],
   "source": [
    "Alist"
   ]
  },
  {
   "cell_type": "markdown",
   "metadata": {},
   "source": [
    "2) I also create our vector $\\Omega$(o) as a list "
   ]
  },
  {
   "cell_type": "code",
   "execution_count": 171,
   "metadata": {},
   "outputs": [
    {
     "data": {
      "text/plain": [
       "[1, 1, 1, 1, 1, 1, 1, 1, 1, 1]"
      ]
     },
     "execution_count": 171,
     "metadata": {},
     "output_type": "execute_result"
    }
   ],
   "source": [
    "olist=[1,1,1,1,1,1,1,1,1,1]\n",
    "olist"
   ]
  },
  {
   "cell_type": "markdown",
   "metadata": {},
   "source": [
    "Now, we are going to create some functions to help us with the multiplication of the nested lists as matrixes and also to help with the final multiplication of the matrix and vector. \n",
    "\n",
    "\n"
   ]
  },
  {
   "cell_type": "code",
   "execution_count": 172,
   "metadata": {},
   "outputs": [],
   "source": [
    "\n",
    "\n",
    "def zeros_matrix(rows, cols):\n",
    "    \"\"\"\n",
    "    Creates a matrix filled with zeros.\n",
    "        :param rows: the number of rows the matrix should have\n",
    "        :param cols: the number of columns the matrix should have\n",
    " \n",
    "        :return: list of lists that form the matrix\n",
    "    \"\"\"\n",
    "    M = []\n",
    "    while len(M) < rows:\n",
    "        M.append([])\n",
    "        while len(M[-1]) < cols:\n",
    "            M[-1].append(0.0)\n",
    " \n",
    "    return M\n",
    "\n",
    "def matrix_multiply(A, B):\n",
    "    \"\"\"\n",
    "    Returns the product of the matrix A * B\n",
    "        :param A: The first matrix - ORDER MATTERS!\n",
    "        :param B: The second matrix\n",
    " \n",
    "        :return: The product of the two matrices\n",
    "    \"\"\"\n",
    "    # Section 1: Ensure A & B dimensions are correct for multiplication\n",
    "    rowsA = len(A)\n",
    "    colsA = len(A[0])\n",
    "    rowsB = len(B)\n",
    "    colsB = len(B[0])\n",
    "    if colsA != rowsB:\n",
    "        raise ArithmeticError(\n",
    "            'Number of A columns must equal number of B rows.')\n",
    " \n",
    "    # Section 2: Store matrix multiplication in a new matrix\n",
    "    C = zeros_matrix(rowsA, colsB)\n",
    "    for i in range(rowsA):\n",
    "        for j in range(colsB):\n",
    "            total = 0\n",
    "            for ii in range(colsA):\n",
    "                total += A[i][ii] * B[ii][j]\n",
    "            C[i][j] = total\n",
    " \n",
    "    return C\n",
    "\n",
    "def multiply_matrices(list):\n",
    "    \"\"\"\n",
    "    Return the product of a list of matrices from first to last\n",
    "        :input: The list of matrices IN ORDER\n",
    " \n",
    "        :return: The product of the matrices\n",
    "    \"\"\"\n",
    "    # Section 1: Start matrix product using 1st matrix in list\n",
    "    matrix_product = list[0]\n",
    " \n",
    "    # Section 2: Loop thru list to create product \n",
    "    # Also, it doesnt multiply the last element in the list. \n",
    "    for matrix in list[1:-1]:\n",
    "        matrix_product = matrix_multiply(matrix_product, matrix)\n",
    " \n",
    "    return matrix_product"
   ]
  },
  {
   "cell_type": "code",
   "execution_count": 173,
   "metadata": {},
   "outputs": [],
   "source": [
    "def multiply(A,o):\n",
    "    result = []\n",
    "    for i in range(len(A[0])):\n",
    "        total = 0\n",
    "        for j in range(len(o)): #this loops through vector coordinates & rows of matrix\n",
    "            total +=  A[j][i]*o[i]\n",
    "        result.append(total)\n",
    "    return result"
   ]
  },
  {
   "cell_type": "markdown",
   "metadata": {},
   "source": [
    "\n",
    "\n",
    "Finally, we are going to modify our DialerProblem function to use the lists and use our multiplication function to provide the same results \n",
    "\n"
   ]
  },
  {
   "cell_type": "code",
   "execution_count": 174,
   "metadata": {},
   "outputs": [],
   "source": [
    " def DialerProblem_List(position,number):\n",
    "    \"\"\"\n",
    "        :type Number:Starting point  \n",
    "        :type Position:Number of digits \n",
    "        \n",
    "        Funtion will return the number of distinct combinations can be dialed without using Numpy\n",
    "    \"\"\"\n",
    "    if number<0:\n",
    "        omega=\"doesnt exist\"\n",
    "    elif number==0:\n",
    "        omega=1\n",
    "    else:\n",
    "        omega=1\n",
    "        A=[]\n",
    "        for n in range(1,number+1):\n",
    "            A.append(Alist)\n",
    "            omega=multiply(multiply_matrices(A),olist) \n",
    "        return(omega[position])   "
   ]
  },
  {
   "cell_type": "markdown",
   "metadata": {},
   "source": [
    "I am going to run the same tests to make sure it produces the same results\n",
    "\n"
   ]
  },
  {
   "cell_type": "code",
   "execution_count": 175,
   "metadata": {},
   "outputs": [
    {
     "data": {
      "text/plain": [
       "1"
      ]
     },
     "execution_count": 175,
     "metadata": {},
     "output_type": "execute_result"
    }
   ],
   "source": [
    "DialerProblem_List(0,2)"
   ]
  },
  {
   "cell_type": "code",
   "execution_count": 176,
   "metadata": {},
   "outputs": [
    {
     "data": {
      "text/plain": [
       "18713"
      ]
     },
     "execution_count": 176,
     "metadata": {},
     "output_type": "execute_result"
    }
   ],
   "source": [
    "DialerProblem_List(5,10)"
   ]
  },
  {
   "cell_type": "code",
   "execution_count": 177,
   "metadata": {},
   "outputs": [
    {
     "data": {
      "text/plain": [
       "3"
      ]
     },
     "execution_count": 177,
     "metadata": {},
     "output_type": "execute_result"
    }
   ],
   "source": [
    "DialerProblem_List(2,2)"
   ]
  },
  {
   "cell_type": "markdown",
   "metadata": {},
   "source": [
    "### f) Using time module of Python, evaluate the algorithmic efficiency of your code in part d. You need to make the similar figure shown above on your computer.\n"
   ]
  },
  {
   "cell_type": "code",
   "execution_count": 178,
   "metadata": {},
   "outputs": [],
   "source": [
    "# def timer(func, x, k):\n",
    "#     from time import time \n",
    "#     ti = time()\n",
    "#     for i in range(k):\n",
    "#         _ = func(2,x)\n",
    "#     tf = time()\n",
    "#     return 1000*(tf - ti) / k"
   ]
  },
  {
   "cell_type": "code",
   "execution_count": 179,
   "metadata": {},
   "outputs": [],
   "source": [
    "def timer_new(func,n):\n",
    "    from time import time\n",
    "    total=0\n",
    "    tn=[]\n",
    "    for i in range(0,9):\n",
    "        tii = time()\n",
    "        func(i,n)\n",
    "        tfi = time()\n",
    "        tn.append(tfi - tii)\n",
    "    for ele in range(0, len(tn)): \n",
    "        total = total + tn[ele] \n",
    "    return total/10 #return the average timing for each number of digits n \n",
    "    \n",
    "    "
   ]
  },
  {
   "cell_type": "code",
   "execution_count": 180,
   "metadata": {},
   "outputs": [
    {
     "data": {
      "image/png": "[encoded data removed]",
      "text/plain": [
       "<Figure size 432x432 with 1 Axes>"
      ]
     },
     "metadata": {
      "needs_background": "light"
     },
     "output_type": "display_data"
    },
    {
     "name": "stdout",
     "output_type": "stream",
     "text": [
      "it took 170.82795238494873 seconds to run DialerProblem for n=1000 \n"
     ]
    }
   ],
   "source": [
    "import time as time\n",
    "plt.figure(figsize=(6,6))\n",
    "\n",
    "\n",
    "x = list(range(1000))\n",
    "y = []\n",
    "t0=time.time()\n",
    "for i in x:\n",
    "    y.append(timer_new(DialerProblem, i))\n",
    "t1=time.time()\n",
    "plt.plot(x, y, color=\"r\")\n",
    "\n",
    "p = np.polyfit(x,y,1) \n",
    "f = np.poly1d(p) \n",
    "plt.plot(x,f(x), 'b-',label=\"Polyfit\")\n",
    "\n",
    "plt.xlabel('N')\n",
    "plt.ylabel('Execution time')\n",
    "plt.title('Dialer Problem for N=1000')\n",
    "plt.show()\n",
    "\n",
    "print('it took {s} seconds to run DialerProblem for n=1000 '.format(s=t1-t0))\n"
   ]
  },
  {
   "cell_type": "markdown",
   "metadata": {},
   "source": [
    "\n",
    "### g) How long will running your code for N = $10^7$  take? You do not run your code for this big number of digits! Use extrapolation to estimate the running time. Do you think we need to improve the performance of our code to execute it for large numbers?\n",
    "\n",
    "Dialer problem has completixy O(N), which means that runtime grows linearly with N - i.e. as you increase x, the runtimes all increase linearly. \n",
    "\n",
    "It takes roughly 170 seconds to run combinations for all numbers in the phone pad for N=$10^3$ digits and we can approximate runtime with a linear equation using polyfit function, so we can find the function f. \n",
    "\n",
    "Using that function f, we can compute the time that will take for N=$10^7$ "
   ]
  },
  {
   "cell_type": "code",
   "execution_count": 201,
   "metadata": {},
   "outputs": [
    {
     "name": "stdout",
     "output_type": "stream",
     "text": [
      " \n",
      "2.546e-06 x + 0.002688\n"
     ]
    }
   ],
   "source": [
    "print(f) "
   ]
  },
  {
   "cell_type": "code",
   "execution_count": 181,
   "metadata": {},
   "outputs": [
    {
     "data": {
      "text/plain": [
       "383.74027149366424"
      ]
     },
     "execution_count": 181,
     "metadata": {},
     "output_type": "execute_result"
    }
   ],
   "source": [
    "f(10000000)"
   ]
  },
  {
   "cell_type": "markdown",
   "metadata": {},
   "source": [
    "### h) Write your own function which takes a decimal number and return the number in the binary system. Do not use bin() syntax of python.\n",
    "\n"
   ]
  },
  {
   "cell_type": "code",
   "execution_count": 182,
   "metadata": {},
   "outputs": [],
   "source": [
    "# Implementation of the binary approach \n",
    "\n",
    "# we can use the Floor division - division that results into whole number adjusted to the left in the number line\n",
    "#% Modulus - remainder of the division of left operand by the right\n",
    "\n",
    "def DecToBin(N): \n",
    "# To store the binary number \n",
    "    B_Number = 0\n",
    "    cnt = 0\n",
    "    while (N != 0): \n",
    "        rem = N % 2\n",
    "        c = pow(10, cnt) \n",
    "        B_Number += rem * c \n",
    "        N //= 2\n",
    "\n",
    "# Count used to store exponent value \n",
    "        cnt += 1\n",
    "\n",
    "    return B_Number "
   ]
  },
  {
   "cell_type": "code",
   "execution_count": 183,
   "metadata": {},
   "outputs": [
    {
     "data": {
      "text/plain": [
       "10110"
      ]
     },
     "execution_count": 183,
     "metadata": {},
     "output_type": "execute_result"
    }
   ],
   "source": [
    "# validating \n",
    "\n",
    "DecToBin(22)"
   ]
  },
  {
   "cell_type": "code",
   "execution_count": 184,
   "metadata": {},
   "outputs": [
    {
     "data": {
      "text/plain": [
       "5"
      ]
     },
     "execution_count": 184,
     "metadata": {},
     "output_type": "execute_result"
    }
   ],
   "source": [
    "len(str(DecToBin(22)))"
   ]
  },
  {
   "cell_type": "markdown",
   "metadata": {},
   "source": [
    "### i) Implement the mentioned algorithm to rebuild your function in part d. This algorithm will allow us to speed up the execution time of the program. You will need to use your binary convert function in part h."
   ]
  },
  {
   "cell_type": "code",
   "execution_count": 185,
   "metadata": {},
   "outputs": [],
   "source": [
    "def multiply_matrices_bin(list):\n",
    "    \"\"\"\n",
    "    Find the product of a list of matrices from first to last\n",
    "        :param list: The list of matrices IN ORDER\n",
    " \n",
    "        :return: The product of the matrices\n",
    "    \"\"\"\n",
    "    # Section 1: Start matrix product using 1st matrix in list\n",
    "    matrix_product = list[0]\n",
    "    # Section 2: Loop thru list to create product \n",
    "    for matrix in list[1:]:\n",
    "        matrix_product = matrix_multiply(matrix_product, matrix) \n",
    "    return matrix_product"
   ]
  },
  {
   "cell_type": "code",
   "execution_count": 186,
   "metadata": {},
   "outputs": [],
   "source": [
    "def DialerProblem_bin2(position,number):\n",
    "    \"\"\"\n",
    "        :type Number:Starting point  \n",
    "        :type Position:Number of digits \n",
    "        \n",
    "        Funtion will return the number of distinct combinations can be dialed \n",
    "    \"\"\"\n",
    "    if number<0:\n",
    "        omega=\"doesnt exist\"\n",
    "    elif number==0:\n",
    "        omega=1\n",
    "    else:\n",
    "        if number==1:\n",
    "            omega=o\n",
    "        else:\n",
    "            a=len(str(DecToBin(number-1)))\n",
    "            d=[int(x) for x in str(DecToBin(number-1))]\n",
    "            power_list=[]\n",
    "            for i in range(0,a):\n",
    "                power_list.append(i)\n",
    "            power_list.sort(reverse = True) \n",
    "            matrix=[]\n",
    "            for i in range (0,a):\n",
    "                if d[i]==1:\n",
    "                    matrix.append(matrix_power(AM,pow(2,power_list[i])))\n",
    "            omega=np.dot(multiply_matrices_bin(matrix),o)\n",
    "            return(omega[position]) "
   ]
  },
  {
   "cell_type": "code",
   "execution_count": 187,
   "metadata": {},
   "outputs": [
    {
     "data": {
      "text/plain": [
       "18713"
      ]
     },
     "execution_count": 187,
     "metadata": {},
     "output_type": "execute_result"
    }
   ],
   "source": [
    "#validation \n",
    "DialerProblem_bin2(5,10)"
   ]
  },
  {
   "cell_type": "markdown",
   "metadata": {},
   "source": [
    "### j) Evaluate the algorithmic efficiency of your code in part h in the same way you did in part f. I implemented the algorithm and ran it on my own computer and I have added my result below for your reference."
   ]
  },
  {
   "cell_type": "code",
   "execution_count": 188,
   "metadata": {},
   "outputs": [
    {
     "data": {
      "image/png": "[encoded data removed]",
      "text/plain": [
       "<Figure size 432x432 with 1 Axes>"
      ]
     },
     "metadata": {
      "needs_background": "light"
     },
     "output_type": "display_data"
    },
    {
     "name": "stdout",
     "output_type": "stream",
     "text": [
      "it took 39.61730766296387 seconds to run DialerProblem for all the numbers until n=1000 \n"
     ]
    }
   ],
   "source": [
    "import time as time\n",
    "plt.figure(figsize=(6,6))\n",
    "\n",
    "\n",
    "x = list(range(1000))\n",
    "y = []\n",
    "t0=time.time()\n",
    "for i in x:\n",
    "    y.append(timer_new(DialerProblem_bin2, i))\n",
    "t1=time.time()\n",
    "plt.plot(x, y, color=\"r\")\n",
    "\n",
    "p = np.polyfit(x,y,1) \n",
    "f = np.poly1d(p) \n",
    "plt.plot(x,f(x), 'b-',label=\"Polyfit\")\n",
    "\n",
    "plt.xlabel('N')\n",
    "plt.ylabel('Execution time')\n",
    "plt.title('Dialer Problem Binary approach for N=1000')\n",
    "plt.show()\n",
    "\n",
    "print('it took {s} seconds to run DialerProblem for all the numbers until n=1000 '.format(s=t1-t0))"
   ]
  },
  {
   "cell_type": "markdown",
   "metadata": {},
   "source": [
    "#### k) How long will running your code for N=$10^7$ take using this algorithm? Compare your finding with part g. Algorithm matters!"
   ]
  },
  {
   "cell_type": "markdown",
   "metadata": {},
   "source": [
    "In the first part, it took 170 seconds to complete all the numbers of digits for N=$10^3$. With the binary approach, same problem completed in 36 seconds, so the algorithm is substantially more efficient.  \n",
    "\n",
    "Using the same apporach as before, I am going to fit a function f using the polyfit, so that we can estimate runtime for larger values. For N=$10^7$, f(N)=25 seconds, where as for the first part, which was 383 seconds. "
   ]
  },
  {
   "cell_type": "code",
   "execution_count": 203,
   "metadata": {},
   "outputs": [
    {
     "data": {
      "text/plain": [
       "25.467572834815446"
      ]
     },
     "execution_count": 203,
     "metadata": {},
     "output_type": "execute_result"
    }
   ],
   "source": [
    "f(10000000)"
   ]
  },
  {
   "cell_type": "markdown",
   "metadata": {},
   "source": [
    "## Problem 2: A simple dimensionality reduction"
   ]
  },
  {
   "cell_type": "markdown",
   "metadata": {},
   "source": [
    "### a) Create a 10x2 NumPy array which contains all elements in D. Find the covariance matrix of D using numpy.cov."
   ]
  },
  {
   "cell_type": "code",
   "execution_count": 190,
   "metadata": {},
   "outputs": [],
   "source": [
    "D=np.array([[1.72,0.10],[-0.58,0.31],[1.99,1.54],[1.60,4.97],[2.72,2.43],[2.83,3.59],[5.95,7.71],[4.75,7.63],[5.57,5.60],\n",
    "            [9.82,7.91]],dtype=np.float64)"
   ]
  },
  {
   "cell_type": "code",
   "execution_count": 191,
   "metadata": {},
   "outputs": [
    {
     "data": {
      "text/plain": [
       "array([[ 1.72,  0.1 ],\n",
       "       [-0.58,  0.31],\n",
       "       [ 1.99,  1.54],\n",
       "       [ 1.6 ,  4.97],\n",
       "       [ 2.72,  2.43],\n",
       "       [ 2.83,  3.59],\n",
       "       [ 5.95,  7.71],\n",
       "       [ 4.75,  7.63],\n",
       "       [ 5.57,  5.6 ],\n",
       "       [ 9.82,  7.91]])"
      ]
     },
     "execution_count": 191,
     "metadata": {},
     "output_type": "execute_result"
    }
   ],
   "source": [
    "D"
   ]
  },
  {
   "cell_type": "code",
   "execution_count": 192,
   "metadata": {},
   "outputs": [
    {
     "name": "stdout",
     "output_type": "stream",
     "text": [
      "NumPy covariance matrix: \n",
      "[[8.70742333 7.41923   ]\n",
      " [7.41923    9.21336556]]\n"
     ]
    }
   ],
   "source": [
    "#covariance matrix defines both the spread (variance) and the orientation (covariance) of our data\n",
    "\n",
    "print('NumPy covariance matrix: \\n%s' %np.cov(D.T))"
   ]
  },
  {
   "cell_type": "markdown",
   "metadata": {},
   "source": [
    "### b) Find eigenvalues and corresponding eigenvectors of the covariance matrix using NumPy linear algebra function. Which eigenvector shows the direction with the most variance? Name this vector v."
   ]
  },
  {
   "cell_type": "code",
   "execution_count": 193,
   "metadata": {
    "scrolled": true
   },
   "outputs": [
    {
     "name": "stdout",
     "output_type": "stream",
     "text": [
      "Eigenvectors \n",
      "[[-0.71905385 -0.69495436]\n",
      " [ 0.69495436 -0.71905385]]\n",
      "\n",
      "Eigenvalues \n",
      "[ 1.53685296 16.38393593]\n"
     ]
    }
   ],
   "source": [
    "# eigendecomposition of the covariance\n",
    "\n",
    "cov_mat = np.cov(D.T)\n",
    "eig_vals, eig_vecs = np.linalg.eig(cov_mat)\n",
    "\n",
    "print('Eigenvectors \\n%s' %eig_vecs)\n",
    "print('\\nEigenvalues \\n%s' %eig_vals)"
   ]
  },
  {
   "cell_type": "markdown",
   "metadata": {},
   "source": [
    "In order to decide which eigenvector(s) holds the maximum information to project to a lower dimensional subspace, we need to inspect the corresponding eigenvalues: The eigenvectors with the highest eigenvalues bear the most information about the distribution of the data; those are the ones can be selected \n",
    "In order to do so, the common approach is to rank the eigenvalues from highest to lowest in order choose the top k eigenvectors"
   ]
  },
  {
   "cell_type": "code",
   "execution_count": 194,
   "metadata": {},
   "outputs": [
    {
     "name": "stdout",
     "output_type": "stream",
     "text": [
      "Eigenvalues in descending order:\n",
      "16.383935929204718\n",
      "1.5368529596841682\n"
     ]
    }
   ],
   "source": [
    "# Make a list of (eigenvalue, eigenvector) tuples\n",
    "eig_pairs = [(np.abs(eig_vals[i]), eig_vecs[:,i]) for i in range(len(eig_vals))]\n",
    "\n",
    "# Sort the (eigenvalue, eigenvector) tuples from high to low\n",
    "eig_pairs.sort()\n",
    "eig_pairs.reverse()\n",
    "\n",
    "# Visually confirm that the list is correctly sorted by decreasing eigenvalues\n",
    "print('Eigenvalues in descending order:')\n",
    "for i in eig_pairs:\n",
    "    print(i[0])"
   ]
  },
  {
   "cell_type": "code",
   "execution_count": 195,
   "metadata": {},
   "outputs": [
    {
     "data": {
      "text/plain": [
       "[(16.383935929204718, array([-0.69495436, -0.71905385])),\n",
       " (1.5368529596841682, array([-0.71905385,  0.69495436]))]"
      ]
     },
     "execution_count": 195,
     "metadata": {},
     "output_type": "execute_result"
    }
   ],
   "source": [
    "eig_pairs"
   ]
  },
  {
   "cell_type": "markdown",
   "metadata": {},
   "source": [
    "Which eigenvector shows the direction with the most variance?\n",
    "\n"
   ]
  },
  {
   "cell_type": "code",
   "execution_count": 196,
   "metadata": {},
   "outputs": [
    {
     "name": "stdout",
     "output_type": "stream",
     "text": [
      "Eigenvector that carries most variance is v=[-0.69495436 -0.71905385]\n"
     ]
    }
   ],
   "source": [
    "v=eig_vecs[:,1]\n",
    "print('Eigenvector that carries most variance is v=%s' %eig_vecs[:,1])"
   ]
  },
  {
   "cell_type": "markdown",
   "metadata": {},
   "source": [
    "### c) Use the dot product of matrix D and v to map all the data points to a direction which corresponds to the most variance. Now, you have a 1-D data set instead of 2-D and you preserved most of the information regarding the relative position of data points in 2-D space. In other words, the data points which are close in 2-D space, are still close pairs in 1-D space. \n",
    "\n",
    "\n"
   ]
  },
  {
   "cell_type": "code",
   "execution_count": 197,
   "metadata": {},
   "outputs": [
    {
     "data": {
      "text/plain": [
       "array([ -1.26722688,   0.18016683,  -2.4903021 ,  -4.68562461,\n",
       "        -3.63757671,  -4.54812416,  -9.67888362,  -8.78741408,\n",
       "        -7.89759734, -12.51216776])"
      ]
     },
     "execution_count": 197,
     "metadata": {},
     "output_type": "execute_result"
    }
   ],
   "source": [
    "D1=np.dot(D,v.T)\n",
    "D1"
   ]
  },
  {
   "cell_type": "markdown",
   "metadata": {},
   "source": [
    "The figure below shows TA own results for eigenvectors (red and blue) of the covariance matrix along with the data points.\n",
    "Mapping the data points to the red eigenvector (the one with larger eigenvalue) is shown in the right figure. \n",
    "Plotting your results is not required in this question but highly recommended."
   ]
  },
  {
   "cell_type": "code",
   "execution_count": 198,
   "metadata": {},
   "outputs": [
    {
     "data": {
      "text/plain": [
       "(array([-0.89141015,  0.86153404]), array([-2.81297197, -2.91051965]))"
      ]
     },
     "execution_count": 198,
     "metadata": {},
     "output_type": "execute_result"
    }
   ],
   "source": [
    "sq_eig_vals=np.sqrt(eig_vals)\n",
    "\n",
    "v0=sq_eig_vals[0]*eig_vecs[:,0]\n",
    "v1=sq_eig_vals[1]*eig_vecs[:,1]\n",
    "v0, v1"
   ]
  },
  {
   "cell_type": "code",
   "execution_count": 205,
   "metadata": {},
   "outputs": [
    {
     "data": {
      "image/png": "[encoded data removed]",
      "text/plain": [
       "<Figure size 432x432 with 1 Axes>"
      ]
     },
     "metadata": {
      "needs_background": "light"
     },
     "output_type": "display_data"
    }
   ],
   "source": [
    "import matplotlib.pyplot as plt\n",
    "plt.figure(figsize=(6,6))\n",
    " \n",
    "types = ['1', '2', '3', '4', '5', '6', '7', '8','9','10']\n",
    "x_coords = D[:, 0]\n",
    "y_coords = D[:, 1] \n",
    "for i,type in enumerate(types):\n",
    "    x = x_coords[i]\n",
    "    y = y_coords[i]\n",
    "    plt.scatter(x, y, marker='o', color='b')\n",
    "    plt.text(x+0.1, y+0.1, type, fontsize=9)\n",
    "origin = [3.5], [4] \n",
    "plt.quiver(*origin, v0[0],v0[1] , color=['b'], scale=17)\n",
    "plt.quiver(*origin, v1[0],v1[1] , color=['r'], scale=17)\n",
    "plt.xlabel('X')\n",
    "plt.ylabel('Y')\n",
    "plt.title('Data points in 2-D with EigenVectors')\n",
    "\n",
    "plt.show()"
   ]
  },
  {
   "cell_type": "code",
   "execution_count": 200,
   "metadata": {},
   "outputs": [
    {
     "data": {
      "image/png": "[encoded data removed]",
      "text/plain": [
       "<Figure size 576x216 with 1 Axes>"
      ]
     },
     "metadata": {
      "needs_background": "light"
     },
     "output_type": "display_data"
    }
   ],
   "source": [
    " \n",
    "plt.figure(figsize=(8,3))\n",
    "types = ['1', '2', '3', '4', '5', '6', '7', '8','9','10']\n",
    "x_coords = D1\n",
    "y_coords = np.array([0,0,0,0,0,0,0,0,0,0])\n",
    "for i,type in enumerate(types):\n",
    "    x = x_coords[i]\n",
    "    y = y_coords[i]\n",
    "    plt.scatter(x, y, marker='o', color='b')\n",
    "    plt.text(x+0.001, y+0.001, type, fontsize=9)\n",
    "plt.axis('off')\n",
    "plt.title('Data points in 1-D and relative point position ')\n",
    "plt.show()\n",
    "\n"
   ]
  },
  {
   "cell_type": "markdown",
   "metadata": {},
   "source": [
    "As we can see above, the data points which are close in 2-D space, are still close pairs in 1-D space."
   ]
  }
 ],
 "metadata": {
  "kernelspec": {
   "display_name": "Python 3",
   "language": "python",
   "name": "python3"
  },
  "language_info": {
   "codemirror_mode": {
    "name": "ipython",
    "version": 3
   },
   "file_extension": ".py",
   "mimetype": "text/x-python",
   "name": "python",
   "nbconvert_exporter": "python",
   "pygments_lexer": "ipython3",
   "version": "3.7.6"
  }
 },
 "nbformat": 4,
 "nbformat_minor": 4
}
